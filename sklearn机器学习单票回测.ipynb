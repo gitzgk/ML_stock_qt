{
 "cells": [
  {
   "cell_type": "markdown",
   "metadata": {
    "colab_type": "text",
    "id": "52rH6aJfqo9A"
   },
   "source": [
    "# SKlearn 机器学习单个票并回测"
   ]
  },
  {
   "cell_type": "markdown",
   "metadata": {
    "ExecuteTime": {
     "end_time": "2019-08-08T12:58:29.249753Z",
     "start_time": "2019-08-08T12:58:29.244073Z"
    },
    "code_folding": [
     0
    ],
    "colab": {
     "base_uri": "https://localhost:8080/",
     "height": 1000
    },
    "colab_type": "code",
    "id": "9i-quwuLqo9B",
    "outputId": "dbfacf46-682f-408b-c6a0-336001bcabba"
   },
   "source": [
    "## 初始化"
   ]
  },
  {
   "cell_type": "code",
   "execution_count": 64,
   "metadata": {
    "ExecuteTime": {
     "end_time": "2019-08-22T12:04:08.459860Z",
     "start_time": "2019-08-22T12:04:06.293554Z"
    },
    "code_folding": [
     0
    ],
    "colab": {},
    "colab_type": "code",
    "id": "-IdqaPvEpStY"
   },
   "outputs": [],
   "source": [
    "#常规库引用\n",
    "import datetime\n",
    "import tushare as ts\n",
    "# import rqalpha_data\n",
    "import pandas as pd\n",
    "import numpy as np\n",
    "import tushare as ts\n",
    "import baostock as bs\n",
    "import talib as talib\n",
    "import seaborn as sns\n",
    "from sklearn.externals import joblib   #保存模型方法\n",
    "import time\n",
    "#保存模型\n",
    "#joblib.dump(model,'rf.model')\n",
    "#加载模型\n",
    "#model=joblib.load('rf.model')\n",
    "\n",
    "import math\n",
    "import statsmodels.tsa.stattools as stattool\n",
    "import matplotlib.pyplot as plt \n",
    "plt.rcParams['figure.figsize'] = (18.0, 6.0)"
   ]
  },
  {
   "cell_type": "code",
   "execution_count": 65,
   "metadata": {
    "ExecuteTime": {
     "end_time": "2019-08-22T12:04:04.298791Z",
     "start_time": "2019-08-22T12:04:04.034881Z"
    },
    "code_folding": []
   },
   "outputs": [],
   "source": [
    "#mysqld调用\n",
    "# from sqlalchemy import create_engine\n",
    "# engine = create_engine(\"mysql+pymysql://{}:{}@{}/{}?charset={}\".format('root', '12345678', '127.0.0.1:3306', 'finance','utf8'))\n",
    "# conn = engine.connect()#创建连接\n"
   ]
  },
  {
   "cell_type": "code",
   "execution_count": 66,
   "metadata": {
    "ExecuteTime": {
     "end_time": "2019-08-22T12:04:08.475188Z",
     "start_time": "2019-08-22T12:04:08.467820Z"
    },
    "code_folding": [],
    "colab": {
     "base_uri": "https://localhost:8080/",
     "height": 71
    },
    "colab_type": "code",
    "id": "KhT08wQLqo9F",
    "outputId": "9abdc1cf-6d3f-4e45-cc81-aeba8f0ff9e4"
   },
   "outputs": [],
   "source": [
    "#调用接口函数\n",
    "def addcode(c): #在代码后载入sz，sh\n",
    "    return c+'.sh'  if c[0:1]=='6' else c+'.sz' \n",
    "def precode(c): #在代码后载入sz，sh\n",
    "    return 'sh.'+c  if c[0:1]=='6' else 'sz.'+c \n",
    "\n",
    "def getBaostock(pcode,start_date,end_date,datatype):\n",
    "#     print(code)\n",
    "    rs = bs.query_history_k_data_plus(pcode,\n",
    "    \"date,code,close,open,low,high,volume,amount\",  #preclose,turn,\n",
    "    start_date=start_date, end_date=end_date,\n",
    "    frequency=datatype, adjustflag=\"3\")#复权类型选择123\n",
    "    #### 打印结果集 ####\n",
    "    data_list = []\n",
    "    \n",
    "    while (rs.error_code == '0') & rs.next():\n",
    "        # 获取一条记录，将记录合并在一起\n",
    "        data_list.append(rs.get_row_data())\n",
    "\n",
    "    df=pd.DataFrame(data_list, columns=rs.fields)\n",
    "    df.close=pd.to_numeric(df.close, downcast='float')\n",
    "    df.open=pd.to_numeric(df.open, downcast='float')\n",
    "    df.low=pd.to_numeric(df.low, downcast='float')\n",
    "    df.high=pd.to_numeric(df.high, downcast='float')\n",
    "#     df.preclose=pd.to_numeric(df.preclose, downcast='float')\n",
    "#     df.turn=pd.to_numeric(df.turn, downcast='float')\n",
    "    df.amount=pd.to_numeric(df.amount, downcast='float')\n",
    "    df.volume=pd.to_numeric(df.volume,downcast='float')\n",
    "    df.dropna(inplace=True)\n",
    "    return df\n"
   ]
  },
  {
   "cell_type": "code",
   "execution_count": 67,
   "metadata": {
    "ExecuteTime": {
     "end_time": "2019-08-22T14:01:23.510052Z",
     "start_time": "2019-08-22T14:01:22.923815Z"
    }
   },
   "outputs": [
    {
     "name": "stdout",
     "output_type": "stream",
     "text": [
      "login success!\n",
      "login respond  msg:success\n",
      "logout success!\n"
     ]
    },
    {
     "data": {
      "text/html": [
       "<div>\n",
       "<style scoped>\n",
       "    .dataframe tbody tr th:only-of-type {\n",
       "        vertical-align: middle;\n",
       "    }\n",
       "\n",
       "    .dataframe tbody tr th {\n",
       "        vertical-align: top;\n",
       "    }\n",
       "\n",
       "    .dataframe thead th {\n",
       "        text-align: right;\n",
       "    }\n",
       "</style>\n",
       "<table border=\"1\" class=\"dataframe\">\n",
       "  <thead>\n",
       "    <tr style=\"text-align: right;\">\n",
       "      <th></th>\n",
       "      <th>date</th>\n",
       "      <th>code</th>\n",
       "      <th>close</th>\n",
       "      <th>open</th>\n",
       "      <th>low</th>\n",
       "      <th>high</th>\n",
       "      <th>volume</th>\n",
       "      <th>amount</th>\n",
       "    </tr>\n",
       "  </thead>\n",
       "  <tbody>\n",
       "    <tr>\n",
       "      <td>6562</td>\n",
       "      <td>2019-11-28</td>\n",
       "      <td>600256</td>\n",
       "      <td>3.24</td>\n",
       "      <td>3.26</td>\n",
       "      <td>3.24</td>\n",
       "      <td>3.26</td>\n",
       "      <td>1719240.0</td>\n",
       "      <td>5593722.0</td>\n",
       "    </tr>\n",
       "    <tr>\n",
       "      <td>6563</td>\n",
       "      <td>2019-11-28</td>\n",
       "      <td>600256</td>\n",
       "      <td>3.24</td>\n",
       "      <td>3.24</td>\n",
       "      <td>3.23</td>\n",
       "      <td>3.25</td>\n",
       "      <td>2395580.0</td>\n",
       "      <td>7768348.0</td>\n",
       "    </tr>\n",
       "  </tbody>\n",
       "</table>\n",
       "</div>"
      ],
      "text/plain": [
       "            date    code  close  open   low  high     volume     amount\n",
       "6562  2019-11-28  600256   3.24  3.26  3.24  3.26  1719240.0  5593722.0\n",
       "6563  2019-11-28  600256   3.24  3.24  3.23  3.25  2395580.0  7768348.0"
      ]
     },
     "execution_count": 67,
     "metadata": {},
     "output_type": "execute_result"
    }
   ],
   "source": [
    "lg = bs.login()\n",
    "# 显示登陆返回信息\n",
    "start_date='2013-01-01'\n",
    "today=time.strftime('%Y-%m-%d',time.localtime(time.time()))\n",
    "print('login respond  msg:'+lg.error_msg)\n",
    "i=0\n",
    "code='600256'\n",
    "\n",
    "df=getBaostock(precode(code),start_date,today,'60')  # 获取个股2013年至今60min数据，即每小时一行，一共6000多行\n",
    "df.code=code\n",
    "\n",
    "if df.shape[0]>0:\n",
    "    df.to_csv(code+'.csv',index=False)\n",
    "else:\n",
    "    print(code+' empty data')\n",
    "   \n",
    "bs.logout()\n",
    "df.tail(2)  "
   ]
  },
  {
   "cell_type": "code",
   "execution_count": 5,
   "metadata": {
    "ExecuteTime": {
     "end_time": "2019-08-22T14:01:25.686788Z",
     "start_time": "2019-08-22T14:01:25.667237Z"
    },
    "code_folding": [],
    "colab": {
     "base_uri": "https://localhost:8080/",
     "height": 51
    },
    "colab_type": "code",
    "id": "GW9ybRN6qo9S",
    "outputId": "51750216-bb6f-4bec-9316-499879b3c8a5",
    "scrolled": false
   },
   "outputs": [
    {
     "name": "stdout",
     "output_type": "stream",
     "text": [
      "lastdata 2019-11-28\n"
     ]
    },
    {
     "data": {
      "text/html": [
       "<div>\n",
       "<style scoped>\n",
       "    .dataframe tbody tr th:only-of-type {\n",
       "        vertical-align: middle;\n",
       "    }\n",
       "\n",
       "    .dataframe tbody tr th {\n",
       "        vertical-align: top;\n",
       "    }\n",
       "\n",
       "    .dataframe thead th {\n",
       "        text-align: right;\n",
       "    }\n",
       "</style>\n",
       "<table border=\"1\" class=\"dataframe\">\n",
       "  <thead>\n",
       "    <tr style=\"text-align: right;\">\n",
       "      <th></th>\n",
       "      <th>close</th>\n",
       "      <th>open</th>\n",
       "      <th>low</th>\n",
       "      <th>high</th>\n",
       "      <th>volume</th>\n",
       "      <th>amount</th>\n",
       "    </tr>\n",
       "  </thead>\n",
       "  <tbody>\n",
       "    <tr>\n",
       "      <td>6562</td>\n",
       "      <td>3.24</td>\n",
       "      <td>3.26</td>\n",
       "      <td>3.24</td>\n",
       "      <td>3.26</td>\n",
       "      <td>1719240.0</td>\n",
       "      <td>5593722.0</td>\n",
       "    </tr>\n",
       "    <tr>\n",
       "      <td>6563</td>\n",
       "      <td>3.24</td>\n",
       "      <td>3.24</td>\n",
       "      <td>3.23</td>\n",
       "      <td>3.25</td>\n",
       "      <td>2395580.0</td>\n",
       "      <td>7768348.0</td>\n",
       "    </tr>\n",
       "  </tbody>\n",
       "</table>\n",
       "</div>"
      ],
      "text/plain": [
       "      close  open   low  high     volume     amount\n",
       "6562   3.24  3.26  3.24  3.26  1719240.0  5593722.0\n",
       "6563   3.24  3.24  3.23  3.25  2395580.0  7768348.0"
      ]
     },
     "execution_count": 5,
     "metadata": {},
     "output_type": "execute_result"
    }
   ],
   "source": [
    "# 从中获取数据,并增加集合学习数据\n",
    "price=pd.read_csv(code+'.csv')\n",
    "print('lastdata',price.date.iloc[-1])\n",
    "price.drop(['date','code'],axis=1,inplace=True)\n",
    "price.tail(2)"
   ]
  },
  {
   "cell_type": "code",
   "execution_count": 6,
   "metadata": {
    "ExecuteTime": {
     "end_time": "2019-08-22T14:01:35.217527Z",
     "start_time": "2019-08-22T14:01:27.971441Z"
    }
   },
   "outputs": [
    {
     "name": "stdout",
     "output_type": "stream",
     "text": [
      "price_train (6314, 79) ,price_test (138, 79) ,price_last (12, 79)\n"
     ]
    },
    {
     "data": {
      "image/png": "[encoded data removed]",
      "text/plain": [
       "<Figure size 1080x144 with 1 Axes>"
      ]
     },
     "metadata": {
      "needs_background": "light"
     },
     "output_type": "display_data"
    },
    {
     "data": {
      "image/png": "[encoded data removed]",
      "text/plain": [
       "<Figure size 864x576 with 1 Axes>"
      ]
     },
     "metadata": {
      "needs_background": "light"
     },
     "output_type": "display_data"
    }
   ],
   "source": [
    "import newfeature\n",
    "y=price['close'].rolling(8).mean().shift(periods=-12, axis=0)/price['close']-1 # 9日最大涨幅(应该是买入后未来第5到第12日的平均收益率吧)\n",
    "\n",
    "xprice_feature=newfeature.getStockCharacter(price).astype('float16')[100:]\n",
    "xprice_feature.drop(['adline'],axis=1,inplace=True)  # adline这列不知道为何，全部都是inf\n",
    "\n",
    "y_p_train=y[100:-150]\n",
    "y_p_test=y[-150:-12]\n",
    "y_p_all=y[100:-12]\n",
    "\n",
    "# xprice_feature.drop(['alpha_144','adline'],axis=1,inplace=True)\n",
    "xprice_feature=xprice_feature*0.3/xprice_feature.std()  # 数据标准化处理，这里直接乘0.3，再除以标准差\n",
    "xprice_feature.dropna(axis=1,inplace=True)\n",
    "price_all=(xprice_feature[:-12])\n",
    "price_train=(xprice_feature[:-150])  # 1991到2018年数据做训练集，剔除最早100个数据，因为在数据处理时，可能导致出现很多空值\n",
    "\n",
    "price_test=(xprice_feature[-150:-12])  # 最近150日数据做测试集，剔除最后12个数，因为无法预测未来值，即没有标签值。\n",
    "price_last=(xprice_feature[-12:])  # 最近12日数据，因为一些特征所需因素尚未发生，故不能作为测试集\n",
    "xprice_feature.to_csv('xmm.csv')\n",
    "print('price_train',price_train.shape,',price_test',price_test.shape,',price_last',price_last.shape)  # 1991-2019差不多6000个交易日\n",
    "# print(y)\n",
    "y_p_all.plot(figsize=(15,2))\n",
    "xprice_feature.head(2)\n",
    "y_p_all.describe()\n",
    "\n",
    "fig,ax = plt.subplots(figsize=(12,8))\n",
    "ax.boxplot(y_p_all.values)\n",
    "plt.show()"
   ]
  },
  {
   "cell_type": "markdown",
   "metadata": {
    "ExecuteTime": {
     "end_time": "2019-08-06T01:09:11.022339Z",
     "start_time": "2019-08-06T01:09:11.011210Z"
    },
    "colab": {},
    "colab_type": "code",
    "id": "tGignQTcqo9V"
   },
   "source": [
    "## 读取数据完毕，查看数据分布特性，并对结果进行切割分类,非必要"
   ]
  },
  {
   "cell_type": "code",
   "execution_count": 7,
   "metadata": {
    "ExecuteTime": {
     "end_time": "2019-08-22T13:42:20.480377Z",
     "start_time": "2019-08-22T13:42:20.428855Z"
    },
    "code_folding": [
     0
    ],
    "colab": {
     "base_uri": "https://localhost:8080/",
     "height": 1000
    },
    "colab_type": "code",
    "id": "9h4U_rvYqo9X",
    "outputId": "3b2b0516-f941-4e80-80d8-63377a9ce66e",
    "scrolled": true
   },
   "outputs": [
    {
     "name": "stderr",
     "output_type": "stream",
     "text": [
      "C:\\Users\\Administrator\\Anaconda3\\lib\\site-packages\\numpy\\core\\fromnumeric.py:86: RuntimeWarning: overflow encountered in reduce\n",
      "  return ufunc.reduce(obj, axis, dtype, out, **passkwargs)\n"
     ]
    }
   ],
   "source": [
    "# 查看极值\n",
    "pric=pd.DataFrame()\n",
    "pric['max']=price_train.max(axis=0)\n",
    "pric['min']=price_train.min(axis=0)\n",
    "pric['median']=price_train.median(axis=0)\n",
    "pric['mean']=price_train.mean(axis=0)\n",
    "pric['count']=price_train.count(axis=0)\n",
    "# pric[150:200]\n",
    "# print(pric.index[43])\n",
    "# pric.values.argmin(axis=0)\n",
    "# abcd = pric.iloc(pric.values.argmin(axis=0))\n",
    "# print(abcd)\n",
    "# print(pric[\"min\"]<-10)\n",
    "# print(pric.min(axis=0))"
   ]
  },
  {
   "cell_type": "markdown",
   "metadata": {
    "ExecuteTime": {
     "end_time": "2019-08-02T13:28:58.739607Z",
     "start_time": "2019-08-02T13:28:58.737239Z"
    },
    "colab": {},
    "colab_type": "code",
    "id": "TYTvq9D1qo9a"
   },
   "source": [
    "### 查看离散度分布"
   ]
  },
  {
   "cell_type": "code",
   "execution_count": 8,
   "metadata": {
    "ExecuteTime": {
     "end_time": "2019-08-22T13:42:27.617224Z",
     "start_time": "2019-08-22T13:42:27.614193Z"
    },
    "code_folding": [
     0
    ],
    "colab": {},
    "colab_type": "code",
    "id": "eIgnWY3dqo9d",
    "scrolled": false
   },
   "outputs": [
    {
     "data": {
      "image/png": "[encoded data removed]",
      "text/plain": [
       "<Figure size 2160x1440 with 81 Axes>"
      ]
     },
     "metadata": {
      "needs_background": "light"
     },
     "output_type": "display_data"
    }
   ],
   "source": [
    "# 查看离散度分布,暂时不需要\n",
    "# print(price_train.shape)\n",
    "# x=0*100\n",
    "x=0\n",
    "\n",
    "# price_train = price_train.astype(np.float64)\n",
    "# price_train.describe()\n",
    "\n",
    "plt.rcParams['figure.figsize'] = (30.0, 20.0)\n",
    "price_train.iloc[:,x:x+100].hist(bins=10)\n",
    "plt.show()\n"
   ]
  },
  {
   "cell_type": "markdown",
   "metadata": {
    "ExecuteTime": {
     "end_time": "2019-08-06T03:03:11.099499Z",
     "start_time": "2019-08-06T03:03:11.094796Z"
    }
   },
   "source": [
    "### 数据切割成分类"
   ]
  },
  {
   "cell_type": "code",
   "execution_count": 9,
   "metadata": {
    "ExecuteTime": {
     "end_time": "2019-08-22T14:01:55.694109Z",
     "start_time": "2019-08-22T14:01:55.666990Z"
    },
    "code_folding": []
   },
   "outputs": [
    {
     "name": "stdout",
     "output_type": "stream",
     "text": [
      "[-1.e+04 -3.e+00 -1.e+00 -0.e+00  0.e+00  2.e+00  1.e+04]\n",
      "(3788, 79) (3788,) (2526, 79) (2526,) (138, 79) (138,)\n"
     ]
    },
    {
     "data": {
      "text/plain": [
       "4862    0\n",
       "1192    5\n",
       "1076    3\n",
       "555     0\n",
       "2695    5\n",
       "       ..\n",
       "3940    3\n",
       "1966    2\n",
       "721     5\n",
       "5595    5\n",
       "2768    3\n",
       "Name: close, Length: 3788, dtype: int64"
      ]
     },
     "execution_count": 9,
     "metadata": {},
     "output_type": "execute_result"
    }
   ],
   "source": [
    "#按照分位数进行切分，避免分了不平均问题发生\n",
    "def get_quantiles(data,x):    \n",
    "    c_bins=np.r_[-100,[np.round(np.quantile(data, i/x),3) for i in range(1,x)],100]  # 1/5,2/5,3/5,4/5,1   \n",
    "    print(np.floor(100*c_bins))  # 五分位后，取整后的结论为，五分位上的各自涨幅-4%,-2%,0, 1%, 3%\n",
    "    return c_bins\n",
    "\n",
    "bins=get_quantiles(y_p_all,6) # bins.shape(7,1)\n",
    "\n",
    "y_train=pd.cut(y_p_train, bins, right=False,labels=False)  # 按分位数，进行分类，分为6类\n",
    "y_test=pd.cut(y_p_test, bins, right=False,labels=False)\n",
    "y_all=pd.cut(y_p_all, bins, right=False,labels=False)\n",
    "\n",
    "from sklearn.model_selection import train_test_split\n",
    "\n",
    "X_train_ori, X_validate_ori, y_train, y_validate = train_test_split(price_train,y_train,test_size=0.4, random_state=10,stratify=y_train)\n",
    "\n",
    "print(X_train_ori.shape,y_train.shape,X_validate_ori.shape,y_validate.shape,price_test.shape,y_test.shape)\n",
    "y_train"
   ]
  },
  {
   "cell_type": "code",
   "execution_count": 10,
   "metadata": {
    "ExecuteTime": {
     "end_time": "2019-08-22T14:02:00.680033Z",
     "start_time": "2019-08-22T14:02:00.514673Z"
    }
   },
   "outputs": [
    {
     "data": {
      "text/plain": [
       "<matplotlib.axes._subplots.AxesSubplot at 0x177aa0743c8>"
      ]
     },
     "execution_count": 10,
     "metadata": {},
     "output_type": "execute_result"
    },
    {
     "data": {
      "image/png": "[encoded data removed]",
      "text/plain": [
       "<Figure size 1080x144 with 1 Axes>"
      ]
     },
     "metadata": {
      "needs_background": "light"
     },
     "output_type": "display_data"
    }
   ],
   "source": [
    "plt.rcParams['figure.figsize'] = (15.0, 2.0)\n",
    "y_test.hist()\n",
    "# price_train"
   ]
  },
  {
   "cell_type": "markdown",
   "metadata": {},
   "source": [
    "### 数据维度组合分析图表"
   ]
  },
  {
   "cell_type": "code",
   "execution_count": 11,
   "metadata": {
    "ExecuteTime": {
     "end_time": "2019-08-22T14:02:10.125314Z",
     "start_time": "2019-08-22T14:02:10.122318Z"
    },
    "colab": {
     "base_uri": "https://localhost:8080/",
     "height": 286
    },
    "colab_type": "code",
    "id": "0XMAfRvjqo9i",
    "outputId": "4242ad18-145a-42af-d30b-b6df44ce0bb1",
    "scrolled": false
   },
   "outputs": [
    {
     "name": "stderr",
     "output_type": "stream",
     "text": [
      "C:\\Users\\Administrator\\Anaconda3\\lib\\site-packages\\ipykernel_launcher.py:3: SettingWithCopyWarning: \n",
      "A value is trying to be set on a copy of a slice from a DataFrame.\n",
      "Try using .loc[row_indexer,col_indexer] = value instead\n",
      "\n",
      "See the caveats in the documentation: http://pandas.pydata.org/pandas-docs/stable/user_guide/indexing.html#returning-a-view-versus-a-copy\n",
      "  This is separate from the ipykernel package so we can avoid doing imports until\n",
      "C:\\Users\\Administrator\\Anaconda3\\lib\\site-packages\\pandas\\core\\frame.py:4102: SettingWithCopyWarning: \n",
      "A value is trying to be set on a copy of a slice from a DataFrame\n",
      "\n",
      "See the caveats in the documentation: http://pandas.pydata.org/pandas-docs/stable/user_guide/indexing.html#returning-a-view-versus-a-copy\n",
      "  errors=errors,\n"
     ]
    },
    {
     "data": {
      "image/png": "[encoded data removed]",
      "text/plain": [
       "<Figure size 915.875x864 with 12 Axes>"
      ]
     },
     "metadata": {
      "needs_background": "light"
     },
     "output_type": "display_data"
    }
   ],
   "source": [
    "import seaborn as sns\n",
    "plt.rcParams['figure.figsize'] = (30.0, 4.0)\n",
    "price_train['yx']=y_train\n",
    "#维度组合图表\n",
    "# vars=['var','hist','cci','5_d','cci_d','t3','natr']\n",
    "_ = sns.pairplot(price_train.iloc[:], vars=['var','hist','cci'], hue=\"yx\", height=4)\n",
    "price_train.drop(['yx'],axis=1,inplace=True)  # 绘图临时把标签列y_train加进来，画完图踢掉\n",
    "\n",
    "# price_test.groupby('resultRel')['r5'].count()\n"
   ]
  },
  {
   "cell_type": "code",
   "execution_count": 12,
   "metadata": {
    "ExecuteTime": {
     "end_time": "2019-08-22T14:02:11.635065Z",
     "start_time": "2019-08-22T14:02:11.633015Z"
    },
    "colab": {},
    "colab_type": "code",
    "id": "MO2rZC-Rqo9l"
   },
   "outputs": [
    {
     "data": {
      "image/png": "[encoded data removed]",
      "text/plain": [
       "<Figure size 2160x720 with 2 Axes>"
      ]
     },
     "metadata": {
      "needs_background": "light"
     },
     "output_type": "display_data"
    }
   ],
   "source": [
    "plt.figure(figsize=(30, 10))\n",
    "_ = sns.heatmap(price_train[[\"close\"]])"
   ]
  },
  {
   "cell_type": "code",
   "execution_count": 13,
   "metadata": {
    "ExecuteTime": {
     "end_time": "2019-08-21T22:05:34.099665Z",
     "start_time": "2019-08-21T22:05:34.096685Z"
    },
    "colab": {},
    "colab_type": "code",
    "id": "tkSKgUo9qo9n"
   },
   "outputs": [
    {
     "name": "stdout",
     "output_type": "stream",
     "text": [
      "close     float16\n",
      "open      float16\n",
      "low       float16\n",
      "high      float16\n",
      "pctChg    float16\n",
      "           ...   \n",
      "arup      float16\n",
      "arosc     float16\n",
      "bop       float16\n",
      "cci       float16\n",
      "cci_d     float16\n",
      "Length: 79, dtype: object\n"
     ]
    }
   ],
   "source": [
    "print(price_train.dtypes)\n",
    "# price_train(np.isnan(price_train))\n"
   ]
  },
  {
   "cell_type": "markdown",
   "metadata": {},
   "source": [
    "### 数据降维处理，300+降到70维"
   ]
  },
  {
   "cell_type": "code",
   "execution_count": 14,
   "metadata": {
    "ExecuteTime": {
     "end_time": "2019-08-22T14:02:16.567434Z",
     "start_time": "2019-08-22T14:02:16.448972Z"
    }
   },
   "outputs": [
    {
     "name": "stdout",
     "output_type": "stream",
     "text": [
      "(3788, 50) (3788,) (138, 50) (138,) (2526, 50) (2526,) (12, 50)\n"
     ]
    }
   ],
   "source": [
    "#PCA 降维处理\n",
    "from sklearn.decomposition import PCA\n",
    "\n",
    "pca = PCA(n_components=50)\n",
    "pca.fit(price_all)\n",
    "X_all=pca.transform(price_all)\n",
    "X_test=pca.transform(price_test)\n",
    "X_train=pca.transform(X_train_ori)\n",
    "X_last=pca.transform(price_last)\n",
    "X_validate=pca.transform(X_validate_ori)\n",
    "print(X_train.shape,y_train.shape,X_test.shape,y_test.shape,X_validate.shape,y_validate.shape,X_last.shape)\n"
   ]
  },
  {
   "cell_type": "markdown",
   "metadata": {
    "ExecuteTime": {
     "end_time": "2019-08-04T02:44:46.321549Z",
     "start_time": "2019-08-04T02:44:46.316358Z"
    }
   },
   "source": [
    "## 数据集训练"
   ]
  },
  {
   "cell_type": "code",
   "execution_count": 15,
   "metadata": {
    "ExecuteTime": {
     "end_time": "2019-08-22T14:02:19.130737Z",
     "start_time": "2019-08-22T14:02:19.097040Z"
    },
    "code_folding": [
     0
    ],
    "colab": {},
    "colab_type": "code",
    "id": "UvSXN57GTewC"
   },
   "outputs": [],
   "source": [
    "#训练函数\n",
    "%timeit\n",
    "\n",
    "from sklearn.tree import DecisionTreeClassifier\n",
    "import sklearn.ensemble as ensemble\n",
    "from sklearn.svm import SVC\n",
    "from xgboost import XGBClassifier\n",
    "\n",
    "from sklearn.neural_network import MLPClassifier\n",
    "from sklearn.neighbors import KNeighborsClassifier\n",
    "from sklearn.gaussian_process import GaussianProcessClassifier\n",
    "from sklearn.gaussian_process.kernels import RBF\n",
    "from sklearn.discriminant_analysis import QuadraticDiscriminantAnalysis\n",
    "from sklearn.discriminant_analysis import LinearDiscriminantAnalysis\n",
    "from sklearn.ensemble import BaggingClassifier\n",
    "from sklearn.metrics import fbeta_score , accuracy_score\n",
    "import time\n",
    "def acc_n(b,a):#自定义打分函数，解决相邻问题,b实际值，a预测值\n",
    "    a_add1=a+1\n",
    "    a_pdd1=a-1\n",
    "    x=((a_add1==b)*0.6).sum()+((a_pdd1==b)*0.6).sum()+((a==b)*1).sum() # 预测结果在真实值上下两个相邻分类，也认为是预测成功\n",
    "    return x/len(a)\n",
    "\n",
    "#自定义函数，计算当预测涨幅为最大归类时的准确率，b实际值，a预测值\n",
    "def acc_top(b,a):\n",
    "    len_predict=0\n",
    "    len_right=0\n",
    "    for x in range(len(a)):  # 只统计我预测股价会涨3%，结果实际涨3%，1%。。。的情况，给不同权重\n",
    "        if a[x]==a.max(): #预测最大值归类，要求大于0\n",
    "            len_predict+=1\n",
    "            if a[x]==b[x]: #完全正确\n",
    "                len_right+=1\n",
    "            if a[x]-1==b[x]:  #降低一档正确\n",
    "                len_right+=0.5\n",
    "            if a[x]-2==b[x]:  #降低2档正确，这个是个过渡区间，没有达到最大预期，但是在不错的区间\n",
    "                len_right+=0.1\n",
    "            if a[x]-3==b[x]:  #降低3档正确\n",
    "                len_right+=-0.1\n",
    "            if a[x]-4==b[x]:  #降低4档正确\n",
    "                len_right+=-0.5\n",
    "            if a[x]-5==b[x]:  #降低5档正确\n",
    "                len_right+=-1\n",
    "                \n",
    "    return len_right/len_predict\n",
    "\n",
    "#利用模型训练，返回准确率\n",
    "\n",
    "def train_fit(learner, sample_size, X_train, y_train, X_test, y_test): \n",
    "    learner = learner.fit(X_train[:sample_size], y_train[:sample_size])\n",
    "    \n",
    "    predictions_train = learner.predict(X_train)\n",
    "    predictions_test =learner.predict(X_test)\n",
    "\n",
    "    test_accuracy=np.round([accuracy_score(y_train,predictions_train),accuracy_score(y_test,predictions_test),\n",
    "                            acc_n(y_train,predictions_train),acc_n(y_test,predictions_test),\n",
    "                            acc_top(y_train,predictions_train),acc_top(y_test,predictions_test)],3)\n",
    "    return test_accuracy\n",
    "\n",
    "#分类器组进行训练，返回每种算法模型的准确率组合(训练集准确率，测试集准确率，训练集accn得分，测试集accn得分，训练集acc_top得分，测试集acc_top得分\n",
    "def clfs_fit(clfs,x_validate_pr,y_validate,x_test_pr,y_test,clfs_class=0):\n",
    "    accuracy_result=[]\n",
    "    for clf in clfs: \n",
    "        clf_name = clf[0]    \n",
    "        start=time.time()\n",
    "        print(clf_name,time.strftime('%H:%M:%S', time.localtime()))\n",
    "        test_accuracy = train_fit(clf[1], y_validate.shape[0], x_validate_pr, y_validate.values, x_test_pr, y_test.values)\n",
    "        #判断保存\n",
    "        if clfs_class>0: \n",
    "            joblib.dump(clf[1],clf[0]+str(clfs_class)+'.model')\n",
    "\n",
    "        accuracy_result.append([test_accuracy[0],test_accuracy[1],\n",
    "                               test_accuracy[2],test_accuracy[3],\n",
    "                               test_accuracy[4],test_accuracy[5]])        \n",
    "        print(clf[0],'train acc:',test_accuracy[0],'test acc:',test_accuracy[1],'train score',test_accuracy[2],'test score:',test_accuracy[3],'train topacc',test_accuracy[4],'test topacc:',test_accuracy[5],' cost sec:',round(time.time()-start,2))\n",
    "    return accuracy_result\n",
    "\n",
    "# #召回率，准确率，交叉矩阵等结果指标分析\n",
    "from sklearn.metrics import f1_score,precision_score,recall_score,classification_report,confusion_matrix\n",
    "# ya=assemble_predict_v_test.true.values\n",
    "# yp=assemble_predict_v_test[0].values\n",
    "def get_acc_data(ya,yp):\n",
    "    f1score=f1_score(ya, yp, average='weighted')\n",
    "    prescore=precision_score(ya,yp, average='weighted')\n",
    "    rscore=recall_score(ya,yp,average='weighted')\n",
    "    score_n=acc_n(ya,yp)\n",
    "    score_top=acc_top(ya,yp)\n",
    "    cmatrix=confusion_matrix(ya,yp)\n",
    "    # creport=classification_report(ya,yp)\n",
    "    return np.round([f1score,prescore,rscore,score_n,score_top],3)"
   ]
  },
  {
   "cell_type": "markdown",
   "metadata": {},
   "source": [
    "### 决策树网格搜索\n"
   ]
  },
  {
   "cell_type": "markdown",
   "metadata": {},
   "source": [
    "### 初始化一级机器学习分类器\n"
   ]
  },
  {
   "cell_type": "code",
   "execution_count": 16,
   "metadata": {
    "ExecuteTime": {
     "end_time": "2019-08-22T14:03:24.842158Z",
     "start_time": "2019-08-22T14:02:21.536873Z"
    },
    "code_folding": [
     0
    ]
   },
   "outputs": [],
   "source": [
    "#使用gridsearch进行网格搜索，暂时不需要\n",
    "from sklearn.model_selection import GridSearchCV, KFold, train_test_split\n",
    "from sklearn.metrics import make_scorer, accuracy_score\n",
    "from sklearn.tree import DecisionTreeClassifier\n",
    "from sklearn.datasets import load_breast_cancer\n",
    "\n",
    "regressor = DecisionTreeClassifier(random_state=0,criterion='gini')  # 创建决策树对象\n",
    "#从以下参数中选取最优\n",
    "parameters = {'max_depth': range(5, 10),\n",
    "              \"max_features\": [10, 20, 30,40,50],\n",
    "              \"min_samples_split\": [2, 5, 10, 20],\n",
    "              \"min_samples_leaf\": [2, 5, 10, 20]\n",
    "             }\n",
    "\n",
    "scoring_fnc = make_scorer(accuracy_score)\n",
    "scoring_fnc = make_scorer(acc_n)\n",
    "kfold = KFold(n_splits=10)\n",
    "grid = GridSearchCV(regressor, parameters, scoring_fnc,n_jobs=-1,cv=kfold)\n",
    "grid = grid.fit(X_train, y_train)\n",
    "reg = grid.best_estimator_\n",
    " \n",
    "\n",
    "\n"
   ]
  },
  {
   "cell_type": "code",
   "execution_count": 17,
   "metadata": {},
   "outputs": [
    {
     "name": "stdout",
     "output_type": "stream",
     "text": [
      "{'max_depth': 5, 'max_features': 10, 'min_samples_leaf': 2, 'min_samples_split': 20}\n",
      "best score: 0.424287\n"
     ]
    },
    {
     "data": {
      "text/plain": [
       "{'class_weight': None,\n",
       " 'criterion': 'gini',\n",
       " 'max_depth': 8,\n",
       " 'max_features': 30,\n",
       " 'max_leaf_nodes': None,\n",
       " 'min_impurity_decrease': 0.0,\n",
       " 'min_impurity_split': None,\n",
       " 'min_samples_leaf': 5,\n",
       " 'min_samples_split': 20,\n",
       " 'min_weight_fraction_leaf': 0.0,\n",
       " 'presort': False,\n",
       " 'random_state': 0,\n",
       " 'splitter': 'best'}"
      ]
     },
     "execution_count": 17,
     "metadata": {},
     "output_type": "execute_result"
    }
   ],
   "source": [
    "print(grid.cv_results_[\"params\"][3])\n",
    "\n",
    "print('best score: %f'%grid.best_score_)\n",
    "reg.get_params()"
   ]
  },
  {
   "cell_type": "code",
   "execution_count": 18,
   "metadata": {},
   "outputs": [
    {
     "name": "stdout",
     "output_type": "stream",
     "text": [
      "max_depth: 8\n",
      "max_features: 30\n",
      "min_samples_split: 20\n",
      "min_samples_leaf: 5\n",
      "test score: 0.224638\n"
     ]
    }
   ],
   "source": [
    "for key in parameters.keys():\n",
    "    print('%s: %d'%(key, reg.get_params()[key]))\n",
    "\n",
    "print('test score: %f'%reg.score(X_test, y_test))\n",
    "\n",
    "# pd.DataFrame(grid.cv_results_).T\n",
    "max_depth=reg.get_params()['max_depth']\n",
    "max_features=reg.get_params()['max_features']\n",
    "min_samples_split=reg.get_params()['min_samples_split']\n",
    "min_samples_leaf=reg.get_params()['min_samples_leaf']\n",
    "# print(max_depth)"
   ]
  },
  {
   "cell_type": "code",
   "execution_count": 19,
   "metadata": {
    "ExecuteTime": {
     "end_time": "2019-08-22T14:03:25.306090Z",
     "start_time": "2019-08-22T14:03:25.289472Z"
    },
    "code_folding": [],
    "scrolled": true
   },
   "outputs": [],
   "source": [
    "#初始化一级机器学习分类器\n",
    "\n",
    "clfs = [\n",
    "        ['KNeighbors',KNeighborsClassifier(20)],\n",
    "        ['MLP',MLPClassifier(activation='relu', alpha=1e-05, batch_size='auto', beta_1=0.9,\n",
    "                               beta_2=0.999, early_stopping=False, epsilon=1e-08,\n",
    "                               hidden_layer_sizes=(15,), learning_rate='constant',\n",
    "                               learning_rate_init=0.001, max_iter=200, momentum=0.9,\n",
    "                               nesterovs_momentum=True, power_t=0.5, random_state=1, shuffle=True,\n",
    "                               solver='lbfgs', tol=0.0001, validation_fraction=0.1, verbose=False,\n",
    "                               warm_start=False)],\n",
    "# #         ['SVClinear',SVC(kernel=\"linear\", C=0.025,probability=True)],\n",
    "# #         ['SVCgamma2',SVC(gamma=2, C=1,probability=True)],\n",
    "        ['SVCrbf',SVC(kernel = 'rbf',probability=True)],\n",
    "# #         ['GaussianProcess',GaussianProcessClassifier(1.0 * RBF(1.0))],#高斯过程当维度>30时，效率很低，不建议使用\n",
    "        ['DecisionTree',DecisionTreeClassifier(max_depth=max_depth,criterion='gini',\n",
    "                                                                             random_state=0,\n",
    "                                                                            max_features=max_features,\n",
    "                                                                            min_samples_split=min_samples_split,\n",
    "                                                                            min_samples_leaf=min_samples_leaf)],\n",
    "##         ['LinearDiscriminant',  LinearDiscriminantAnalysis()],\n",
    "##         ['QuadraticDiscriminant',QuadraticDiscriminantAnalysis()], \n",
    "        ['XGBoost',XGBClassifier(learning_rate=0.1,n_estimators=500,         # 树的个数--500棵树建立xgboost\n",
    "                                max_depth=8,min_child_weight = 1,      # 叶子节点最小权重\n",
    "                                gamma=0.,                  # 惩罚项中叶子结点个数前的参数\n",
    "                                subsample=0.6,             # 随机选择80%样本建立决策树\n",
    "                                colsample_btree=0.6,       # 随机选择80%特征建立决策树\n",
    "                                objective='multi:softmax', # 指定损失函数\n",
    "                                scale_pos_weight=1,        # 解决样本个数不平衡的问题\n",
    "                                random_state=27,           # 随机数\n",
    "                               n_jobs=-1)],\n",
    "         ['AdaBoost_DTree',ensemble.AdaBoostClassifier(DecisionTreeClassifier(max_depth=max_depth,criterion='gini',\n",
    "                                                                             random_state=0,\n",
    "                                                                            max_features=max_features,\n",
    "                                                                            min_samples_split=min_samples_split,\n",
    "                                                                            min_samples_leaf=min_samples_leaf),\n",
    "                          n_estimators=400, random_state=1)],\n",
    "         ['RandomForest',ensemble.RandomForestClassifier(n_estimators=1000, random_state=1,n_jobs=-1)],\n",
    "         ['AdaBoost_samme',ensemble.AdaBoostClassifier(DecisionTreeClassifier(max_depth=max_depth,criterion='gini',\n",
    "                                                                             random_state=0,\n",
    "                                                                            max_features=max_features,\n",
    "                                                                            min_samples_split=min_samples_split,\n",
    "                                                                            min_samples_leaf=min_samples_leaf),\n",
    "                         algorithm=\"SAMME\", n_estimators=400, learning_rate=0.8)],\n",
    "        ['ExtraTrees', ensemble.ExtraTreesClassifier(n_estimators=1000, max_depth=None,n_jobs=-1)],  # clf.feature_importances_\n",
    "        ['GradientBoost', ensemble.GradientBoostingClassifier(n_estimators=500, learning_rate=0.8, max_depth=8, random_state=0)], # clf.feature_importances_\n",
    "#         ['Bagging',ensemble.BaggingClassifier(max_features=50,max_samples=20, bootstrap_features=True, oob_score=True,n_jobs=-1)]\n",
    "        ]\n",
    "\n",
    "index = np.array(clfs)[:,0]"
   ]
  },
  {
   "cell_type": "markdown",
   "metadata": {},
   "source": [
    "### 调用一级分类器模型学习train_set\n"
   ]
  },
  {
   "cell_type": "code",
   "execution_count": 20,
   "metadata": {
    "ExecuteTime": {
     "end_time": "2019-08-22T14:06:17.979038Z",
     "start_time": "2019-08-22T14:03:25.642369Z"
    },
    "code_folding": [],
    "scrolled": false
   },
   "outputs": [
    {
     "name": "stdout",
     "output_type": "stream",
     "text": [
      "KNeighbors 20:25:52\n",
      "KNeighbors train acc: 0.397 test acc: 0.273 train score 0.539 test score: 0.449 train topacc 0.318 test topacc: 0.26  cost sec: 2.32\n",
      "MLP 20:25:55\n",
      "MLP train acc: 0.423 test acc: 0.29 train score 0.591 test score: 0.47 train topacc 0.475 test topacc: 0.244  cost sec: 0.85\n",
      "SVCrbf 20:25:55\n"
     ]
    },
    {
     "name": "stderr",
     "output_type": "stream",
     "text": [
      "C:\\Users\\Administrator\\Anaconda3\\lib\\site-packages\\sklearn\\svm\\base.py:193: FutureWarning: The default value of gamma will change from 'auto' to 'scale' in version 0.22 to account better for unscaled features. Set gamma explicitly to 'auto' or 'scale' to avoid this warning.\n",
      "  \"avoid this warning.\", FutureWarning)\n"
     ]
    },
    {
     "name": "stdout",
     "output_type": "stream",
     "text": [
      "SVCrbf train acc: 0.288 test acc: 0.268 train score 0.457 test score: 0.442 train topacc 0.167 test topacc: 0.158  cost sec: 14.62\n",
      "DecisionTree 20:26:10\n",
      "DecisionTree train acc: 0.393 test acc: 0.251 train score 0.526 test score: 0.428 train topacc 0.271 test topacc: 0.182  cost sec: 0.16\n",
      "XGBoost 20:26:10\n",
      "XGBoost train acc: 1.0 test acc: 0.341 train score 1.0 test score: 0.518 train topacc 1.0 test topacc: 0.339  cost sec: 28.8\n",
      "AdaBoost_DTree 20:26:39\n",
      "AdaBoost_DTree train acc: 1.0 test acc: 0.281 train score 1.0 test score: 0.464 train topacc 1.0 test topacc: 0.25  cost sec: 54.26\n",
      "RandomForest 20:27:33\n",
      "RandomForest train acc: 1.0 test acc: 0.364 train score 1.0 test score: 0.545 train topacc 1.0 test topacc: 0.409  cost sec: 7.4\n",
      "AdaBoost_samme 20:27:41\n",
      "AdaBoost_samme train acc: 1.0 test acc: 0.327 train score 1.0 test score: 0.503 train topacc 1.0 test topacc: 0.31  cost sec: 57.13\n",
      "ExtraTrees 20:28:38\n",
      "ExtraTrees train acc: 1.0 test acc: 0.397 train score 1.0 test score: 0.576 train topacc 1.0 test topacc: 0.533  cost sec: 3.79\n",
      "GradientBoost 20:28:42\n",
      "GradientBoost train acc: 1.0 test acc: 0.274 train score 1.0 test score: 0.452 train topacc 1.0 test topacc: 0.195  cost sec: 21.08\n"
     ]
    }
   ],
   "source": [
    "\n",
    "accuracy_result=pd.DataFrame(clfs_fit(clfs,X_train,y_train,X_validate,y_validate,0))\n",
    "accuracy_result.columns=['train_acc','validate_acc','train_sccore','validate_score','train_top','validate_top']\n"
   ]
  },
  {
   "cell_type": "code",
   "execution_count": 21,
   "metadata": {},
   "outputs": [
    {
     "data": {
      "text/html": [
       "<div>\n",
       "<style scoped>\n",
       "    .dataframe tbody tr th:only-of-type {\n",
       "        vertical-align: middle;\n",
       "    }\n",
       "\n",
       "    .dataframe tbody tr th {\n",
       "        vertical-align: top;\n",
       "    }\n",
       "\n",
       "    .dataframe thead th {\n",
       "        text-align: right;\n",
       "    }\n",
       "</style>\n",
       "<table border=\"1\" class=\"dataframe\">\n",
       "  <thead>\n",
       "    <tr style=\"text-align: right;\">\n",
       "      <th></th>\n",
       "      <th>train_acc</th>\n",
       "      <th>validate_acc</th>\n",
       "      <th>train_sccore</th>\n",
       "      <th>validate_score</th>\n",
       "      <th>train_top</th>\n",
       "      <th>validate_top</th>\n",
       "    </tr>\n",
       "  </thead>\n",
       "  <tbody>\n",
       "    <tr>\n",
       "      <td>KNeighbors</td>\n",
       "      <td>0.397</td>\n",
       "      <td>0.273</td>\n",
       "      <td>0.539</td>\n",
       "      <td>0.449</td>\n",
       "      <td>0.318</td>\n",
       "      <td>0.260</td>\n",
       "    </tr>\n",
       "    <tr>\n",
       "      <td>MLP</td>\n",
       "      <td>0.423</td>\n",
       "      <td>0.290</td>\n",
       "      <td>0.591</td>\n",
       "      <td>0.470</td>\n",
       "      <td>0.475</td>\n",
       "      <td>0.244</td>\n",
       "    </tr>\n",
       "    <tr>\n",
       "      <td>SVCrbf</td>\n",
       "      <td>0.288</td>\n",
       "      <td>0.268</td>\n",
       "      <td>0.457</td>\n",
       "      <td>0.442</td>\n",
       "      <td>0.167</td>\n",
       "      <td>0.158</td>\n",
       "    </tr>\n",
       "    <tr>\n",
       "      <td>DecisionTree</td>\n",
       "      <td>0.393</td>\n",
       "      <td>0.251</td>\n",
       "      <td>0.526</td>\n",
       "      <td>0.428</td>\n",
       "      <td>0.271</td>\n",
       "      <td>0.182</td>\n",
       "    </tr>\n",
       "    <tr>\n",
       "      <td>XGBoost</td>\n",
       "      <td>1.000</td>\n",
       "      <td>0.341</td>\n",
       "      <td>1.000</td>\n",
       "      <td>0.518</td>\n",
       "      <td>1.000</td>\n",
       "      <td>0.339</td>\n",
       "    </tr>\n",
       "    <tr>\n",
       "      <td>AdaBoost_DTree</td>\n",
       "      <td>1.000</td>\n",
       "      <td>0.281</td>\n",
       "      <td>1.000</td>\n",
       "      <td>0.464</td>\n",
       "      <td>1.000</td>\n",
       "      <td>0.250</td>\n",
       "    </tr>\n",
       "    <tr>\n",
       "      <td>RandomForest</td>\n",
       "      <td>1.000</td>\n",
       "      <td>0.364</td>\n",
       "      <td>1.000</td>\n",
       "      <td>0.545</td>\n",
       "      <td>1.000</td>\n",
       "      <td>0.409</td>\n",
       "    </tr>\n",
       "    <tr>\n",
       "      <td>AdaBoost_samme</td>\n",
       "      <td>1.000</td>\n",
       "      <td>0.327</td>\n",
       "      <td>1.000</td>\n",
       "      <td>0.503</td>\n",
       "      <td>1.000</td>\n",
       "      <td>0.310</td>\n",
       "    </tr>\n",
       "    <tr>\n",
       "      <td>ExtraTrees</td>\n",
       "      <td>1.000</td>\n",
       "      <td>0.397</td>\n",
       "      <td>1.000</td>\n",
       "      <td>0.576</td>\n",
       "      <td>1.000</td>\n",
       "      <td>0.533</td>\n",
       "    </tr>\n",
       "    <tr>\n",
       "      <td>GradientBoost</td>\n",
       "      <td>1.000</td>\n",
       "      <td>0.274</td>\n",
       "      <td>1.000</td>\n",
       "      <td>0.452</td>\n",
       "      <td>1.000</td>\n",
       "      <td>0.195</td>\n",
       "    </tr>\n",
       "  </tbody>\n",
       "</table>\n",
       "</div>"
      ],
      "text/plain": [
       "                train_acc  validate_acc  train_sccore  validate_score  \\\n",
       "KNeighbors          0.397         0.273         0.539           0.449   \n",
       "MLP                 0.423         0.290         0.591           0.470   \n",
       "SVCrbf              0.288         0.268         0.457           0.442   \n",
       "DecisionTree        0.393         0.251         0.526           0.428   \n",
       "XGBoost             1.000         0.341         1.000           0.518   \n",
       "AdaBoost_DTree      1.000         0.281         1.000           0.464   \n",
       "RandomForest        1.000         0.364         1.000           0.545   \n",
       "AdaBoost_samme      1.000         0.327         1.000           0.503   \n",
       "ExtraTrees          1.000         0.397         1.000           0.576   \n",
       "GradientBoost       1.000         0.274         1.000           0.452   \n",
       "\n",
       "                train_top  validate_top  \n",
       "KNeighbors          0.318         0.260  \n",
       "MLP                 0.475         0.244  \n",
       "SVCrbf              0.167         0.158  \n",
       "DecisionTree        0.271         0.182  \n",
       "XGBoost             1.000         0.339  \n",
       "AdaBoost_DTree      1.000         0.250  \n",
       "RandomForest        1.000         0.409  \n",
       "AdaBoost_samme      1.000         0.310  \n",
       "ExtraTrees          1.000         0.533  \n",
       "GradientBoost       1.000         0.195  "
      ]
     },
     "execution_count": 21,
     "metadata": {},
     "output_type": "execute_result"
    }
   ],
   "source": [
    "accuracy_result.index = index\n",
    "accuracy_result"
   ]
  },
  {
   "cell_type": "code",
   "execution_count": 23,
   "metadata": {
    "ExecuteTime": {
     "end_time": "2019-08-22T14:43:54.372456Z",
     "start_time": "2019-08-22T14:43:49.985325Z"
    },
    "scrolled": false
   },
   "outputs": [
    {
     "name": "stderr",
     "output_type": "stream",
     "text": [
      "C:\\Users\\Administrator\\Anaconda3\\lib\\site-packages\\sklearn\\metrics\\classification.py:1439: UndefinedMetricWarning: F-score is ill-defined and being set to 0.0 in labels with no true samples.\n",
      "  'recall', 'true', average, warn_for)\n",
      "C:\\Users\\Administrator\\Anaconda3\\lib\\site-packages\\sklearn\\metrics\\classification.py:1439: UndefinedMetricWarning: Recall is ill-defined and being set to 0.0 in labels with no true samples.\n",
      "  'recall', 'true', average, warn_for)\n",
      "C:\\Users\\Administrator\\Anaconda3\\lib\\site-packages\\sklearn\\metrics\\classification.py:1439: UndefinedMetricWarning: F-score is ill-defined and being set to 0.0 in labels with no true samples.\n",
      "  'recall', 'true', average, warn_for)\n",
      "C:\\Users\\Administrator\\Anaconda3\\lib\\site-packages\\sklearn\\metrics\\classification.py:1439: UndefinedMetricWarning: Recall is ill-defined and being set to 0.0 in labels with no true samples.\n",
      "  'recall', 'true', average, warn_for)\n",
      "C:\\Users\\Administrator\\Anaconda3\\lib\\site-packages\\sklearn\\metrics\\classification.py:1439: UndefinedMetricWarning: F-score is ill-defined and being set to 0.0 in labels with no true samples.\n",
      "  'recall', 'true', average, warn_for)\n",
      "C:\\Users\\Administrator\\Anaconda3\\lib\\site-packages\\sklearn\\metrics\\classification.py:1439: UndefinedMetricWarning: Recall is ill-defined and being set to 0.0 in labels with no true samples.\n",
      "  'recall', 'true', average, warn_for)\n",
      "C:\\Users\\Administrator\\Anaconda3\\lib\\site-packages\\sklearn\\metrics\\classification.py:1439: UndefinedMetricWarning: F-score is ill-defined and being set to 0.0 in labels with no true samples.\n",
      "  'recall', 'true', average, warn_for)\n",
      "C:\\Users\\Administrator\\Anaconda3\\lib\\site-packages\\sklearn\\metrics\\classification.py:1439: UndefinedMetricWarning: Recall is ill-defined and being set to 0.0 in labels with no true samples.\n",
      "  'recall', 'true', average, warn_for)\n",
      "C:\\Users\\Administrator\\Anaconda3\\lib\\site-packages\\sklearn\\metrics\\classification.py:1439: UndefinedMetricWarning: F-score is ill-defined and being set to 0.0 in labels with no true samples.\n",
      "  'recall', 'true', average, warn_for)\n",
      "C:\\Users\\Administrator\\Anaconda3\\lib\\site-packages\\sklearn\\metrics\\classification.py:1439: UndefinedMetricWarning: Recall is ill-defined and being set to 0.0 in labels with no true samples.\n",
      "  'recall', 'true', average, warn_for)\n",
      "C:\\Users\\Administrator\\Anaconda3\\lib\\site-packages\\sklearn\\metrics\\classification.py:1439: UndefinedMetricWarning: F-score is ill-defined and being set to 0.0 in labels with no true samples.\n",
      "  'recall', 'true', average, warn_for)\n",
      "C:\\Users\\Administrator\\Anaconda3\\lib\\site-packages\\sklearn\\metrics\\classification.py:1439: UndefinedMetricWarning: Recall is ill-defined and being set to 0.0 in labels with no true samples.\n",
      "  'recall', 'true', average, warn_for)\n",
      "C:\\Users\\Administrator\\Anaconda3\\lib\\site-packages\\sklearn\\metrics\\classification.py:1439: UndefinedMetricWarning: F-score is ill-defined and being set to 0.0 in labels with no true samples.\n",
      "  'recall', 'true', average, warn_for)\n",
      "C:\\Users\\Administrator\\Anaconda3\\lib\\site-packages\\sklearn\\metrics\\classification.py:1439: UndefinedMetricWarning: Recall is ill-defined and being set to 0.0 in labels with no true samples.\n",
      "  'recall', 'true', average, warn_for)\n"
     ]
    },
    {
     "data": {
      "text/html": [
       "<div>\n",
       "<style scoped>\n",
       "    .dataframe tbody tr th:only-of-type {\n",
       "        vertical-align: middle;\n",
       "    }\n",
       "\n",
       "    .dataframe tbody tr th {\n",
       "        vertical-align: top;\n",
       "    }\n",
       "\n",
       "    .dataframe thead th {\n",
       "        text-align: right;\n",
       "    }\n",
       "</style>\n",
       "<table border=\"1\" class=\"dataframe\">\n",
       "  <thead>\n",
       "    <tr style=\"text-align: right;\">\n",
       "      <th></th>\n",
       "      <th>validate_f1score</th>\n",
       "      <th>validate_prescore</th>\n",
       "      <th>validate_rscore</th>\n",
       "      <th>validate_score_n</th>\n",
       "      <th>validate_score_top</th>\n",
       "      <th>test_f1score</th>\n",
       "      <th>test_prescore</th>\n",
       "      <th>test_rscore</th>\n",
       "      <th>test_score_n</th>\n",
       "      <th>test_score_top</th>\n",
       "    </tr>\n",
       "  </thead>\n",
       "  <tbody>\n",
       "    <tr>\n",
       "      <td>KNeighbors</td>\n",
       "      <td>0.274</td>\n",
       "      <td>0.279</td>\n",
       "      <td>0.273</td>\n",
       "      <td>0.449</td>\n",
       "      <td>0.130</td>\n",
       "      <td>0.220</td>\n",
       "      <td>0.244</td>\n",
       "      <td>0.203</td>\n",
       "      <td>0.446</td>\n",
       "      <td>0.025</td>\n",
       "    </tr>\n",
       "    <tr>\n",
       "      <td>MLP</td>\n",
       "      <td>0.301</td>\n",
       "      <td>0.320</td>\n",
       "      <td>0.290</td>\n",
       "      <td>0.470</td>\n",
       "      <td>0.374</td>\n",
       "      <td>0.261</td>\n",
       "      <td>0.367</td>\n",
       "      <td>0.210</td>\n",
       "      <td>0.493</td>\n",
       "      <td>0.025</td>\n",
       "    </tr>\n",
       "    <tr>\n",
       "      <td>SVCrbf</td>\n",
       "      <td>0.273</td>\n",
       "      <td>0.298</td>\n",
       "      <td>0.268</td>\n",
       "      <td>0.442</td>\n",
       "      <td>0.152</td>\n",
       "      <td>0.355</td>\n",
       "      <td>0.555</td>\n",
       "      <td>0.268</td>\n",
       "      <td>0.490</td>\n",
       "      <td>-0.025</td>\n",
       "    </tr>\n",
       "    <tr>\n",
       "      <td>DecisionTree</td>\n",
       "      <td>0.258</td>\n",
       "      <td>0.274</td>\n",
       "      <td>0.251</td>\n",
       "      <td>0.428</td>\n",
       "      <td>0.125</td>\n",
       "      <td>0.267</td>\n",
       "      <td>0.382</td>\n",
       "      <td>0.225</td>\n",
       "      <td>0.455</td>\n",
       "      <td>-0.075</td>\n",
       "    </tr>\n",
       "    <tr>\n",
       "      <td>XGBoost</td>\n",
       "      <td>0.344</td>\n",
       "      <td>0.349</td>\n",
       "      <td>0.341</td>\n",
       "      <td>0.518</td>\n",
       "      <td>0.328</td>\n",
       "      <td>0.303</td>\n",
       "      <td>0.372</td>\n",
       "      <td>0.261</td>\n",
       "      <td>0.483</td>\n",
       "      <td>0.100</td>\n",
       "    </tr>\n",
       "    <tr>\n",
       "      <td>AdaBoost_DTree</td>\n",
       "      <td>0.280</td>\n",
       "      <td>0.284</td>\n",
       "      <td>0.281</td>\n",
       "      <td>0.464</td>\n",
       "      <td>0.244</td>\n",
       "      <td>0.198</td>\n",
       "      <td>0.242</td>\n",
       "      <td>0.174</td>\n",
       "      <td>0.452</td>\n",
       "      <td>0.075</td>\n",
       "    </tr>\n",
       "    <tr>\n",
       "      <td>RandomForest</td>\n",
       "      <td>0.370</td>\n",
       "      <td>0.384</td>\n",
       "      <td>0.364</td>\n",
       "      <td>0.545</td>\n",
       "      <td>0.339</td>\n",
       "      <td>0.302</td>\n",
       "      <td>0.465</td>\n",
       "      <td>0.232</td>\n",
       "      <td>0.497</td>\n",
       "      <td>-0.000</td>\n",
       "    </tr>\n",
       "    <tr>\n",
       "      <td>AdaBoost_samme</td>\n",
       "      <td>0.325</td>\n",
       "      <td>0.325</td>\n",
       "      <td>0.327</td>\n",
       "      <td>0.503</td>\n",
       "      <td>0.295</td>\n",
       "      <td>0.321</td>\n",
       "      <td>0.422</td>\n",
       "      <td>0.275</td>\n",
       "      <td>0.484</td>\n",
       "      <td>-0.075</td>\n",
       "    </tr>\n",
       "    <tr>\n",
       "      <td>ExtraTrees</td>\n",
       "      <td>0.401</td>\n",
       "      <td>0.414</td>\n",
       "      <td>0.397</td>\n",
       "      <td>0.576</td>\n",
       "      <td>0.433</td>\n",
       "      <td>0.325</td>\n",
       "      <td>0.497</td>\n",
       "      <td>0.254</td>\n",
       "      <td>0.506</td>\n",
       "      <td>0.075</td>\n",
       "    </tr>\n",
       "    <tr>\n",
       "      <td>GradientBoost</td>\n",
       "      <td>0.274</td>\n",
       "      <td>0.273</td>\n",
       "      <td>0.274</td>\n",
       "      <td>0.452</td>\n",
       "      <td>0.168</td>\n",
       "      <td>0.214</td>\n",
       "      <td>0.212</td>\n",
       "      <td>0.217</td>\n",
       "      <td>0.435</td>\n",
       "      <td>0.050</td>\n",
       "    </tr>\n",
       "  </tbody>\n",
       "</table>\n",
       "</div>"
      ],
      "text/plain": [
       "                validate_f1score  validate_prescore  validate_rscore  \\\n",
       "KNeighbors                 0.274              0.279            0.273   \n",
       "MLP                        0.301              0.320            0.290   \n",
       "SVCrbf                     0.273              0.298            0.268   \n",
       "DecisionTree               0.258              0.274            0.251   \n",
       "XGBoost                    0.344              0.349            0.341   \n",
       "AdaBoost_DTree             0.280              0.284            0.281   \n",
       "RandomForest               0.370              0.384            0.364   \n",
       "AdaBoost_samme             0.325              0.325            0.327   \n",
       "ExtraTrees                 0.401              0.414            0.397   \n",
       "GradientBoost              0.274              0.273            0.274   \n",
       "\n",
       "                validate_score_n  validate_score_top  test_f1score  \\\n",
       "KNeighbors                 0.449               0.130         0.220   \n",
       "MLP                        0.470               0.374         0.261   \n",
       "SVCrbf                     0.442               0.152         0.355   \n",
       "DecisionTree               0.428               0.125         0.267   \n",
       "XGBoost                    0.518               0.328         0.303   \n",
       "AdaBoost_DTree             0.464               0.244         0.198   \n",
       "RandomForest               0.545               0.339         0.302   \n",
       "AdaBoost_samme             0.503               0.295         0.321   \n",
       "ExtraTrees                 0.576               0.433         0.325   \n",
       "GradientBoost              0.452               0.168         0.214   \n",
       "\n",
       "                test_prescore  test_rscore  test_score_n  test_score_top  \n",
       "KNeighbors              0.244        0.203         0.446           0.025  \n",
       "MLP                     0.367        0.210         0.493           0.025  \n",
       "SVCrbf                  0.555        0.268         0.490          -0.025  \n",
       "DecisionTree            0.382        0.225         0.455          -0.075  \n",
       "XGBoost                 0.372        0.261         0.483           0.100  \n",
       "AdaBoost_DTree          0.242        0.174         0.452           0.075  \n",
       "RandomForest            0.465        0.232         0.497          -0.000  \n",
       "AdaBoost_samme          0.422        0.275         0.484          -0.075  \n",
       "ExtraTrees              0.497        0.254         0.506           0.075  \n",
       "GradientBoost           0.212        0.217         0.435           0.050  "
      ]
     },
     "execution_count": 23,
     "metadata": {},
     "output_type": "execute_result"
    }
   ],
   "source": [
    "mm=pd.DataFrame()\n",
    "mylist = []\n",
    "\n",
    "for clf in clfs: \n",
    "    v_predict=clf[1].predict(X_validate)\n",
    "    t_predict=clf[1].predict(X_test)\n",
    "    mm[clf[0]]=t_predict  # 保存每种模型的训练集预测结果\n",
    "    mylist.append(np.r_[get_acc_data(v_predict,y_validate.values),get_acc_data(t_predict,y_test.values)])\n",
    "\n",
    "\n",
    "columns = [\"validate_f1score\",\"validate_prescore\",\"validate_rscore\",\"validate_score_n\",\"validate_score_top\", \"test_f1score\",\"test_prescore\",\"test_rscore\",\"test_score_n\",\"test_score_top\"] \n",
    "df3 = pd.DataFrame(mylist,columns=columns,index=index)\n",
    "df3"
   ]
  },
  {
   "cell_type": "code",
   "execution_count": 24,
   "metadata": {
    "ExecuteTime": {
     "end_time": "2019-08-22T14:44:23.527648Z",
     "start_time": "2019-08-22T14:44:23.518642Z"
    }
   },
   "outputs": [
    {
     "data": {
      "text/html": [
       "<div>\n",
       "<style scoped>\n",
       "    .dataframe tbody tr th:only-of-type {\n",
       "        vertical-align: middle;\n",
       "    }\n",
       "\n",
       "    .dataframe tbody tr th {\n",
       "        vertical-align: top;\n",
       "    }\n",
       "\n",
       "    .dataframe thead th {\n",
       "        text-align: right;\n",
       "    }\n",
       "</style>\n",
       "<table border=\"1\" class=\"dataframe\">\n",
       "  <thead>\n",
       "    <tr style=\"text-align: right;\">\n",
       "      <th></th>\n",
       "      <th>0</th>\n",
       "      <th>1</th>\n",
       "      <th>2</th>\n",
       "      <th>3</th>\n",
       "      <th>4</th>\n",
       "      <th>5</th>\n",
       "    </tr>\n",
       "  </thead>\n",
       "  <tbody>\n",
       "    <tr>\n",
       "      <td>0</td>\n",
       "      <td>0</td>\n",
       "      <td>1</td>\n",
       "      <td>9</td>\n",
       "      <td>2</td>\n",
       "      <td>1</td>\n",
       "      <td>0</td>\n",
       "    </tr>\n",
       "    <tr>\n",
       "      <td>1</td>\n",
       "      <td>0</td>\n",
       "      <td>0</td>\n",
       "      <td>10</td>\n",
       "      <td>7</td>\n",
       "      <td>3</td>\n",
       "      <td>0</td>\n",
       "    </tr>\n",
       "    <tr>\n",
       "      <td>2</td>\n",
       "      <td>1</td>\n",
       "      <td>1</td>\n",
       "      <td>9</td>\n",
       "      <td>20</td>\n",
       "      <td>4</td>\n",
       "      <td>0</td>\n",
       "    </tr>\n",
       "    <tr>\n",
       "      <td>3</td>\n",
       "      <td>0</td>\n",
       "      <td>0</td>\n",
       "      <td>18</td>\n",
       "      <td>7</td>\n",
       "      <td>9</td>\n",
       "      <td>0</td>\n",
       "    </tr>\n",
       "    <tr>\n",
       "      <td>4</td>\n",
       "      <td>0</td>\n",
       "      <td>0</td>\n",
       "      <td>17</td>\n",
       "      <td>3</td>\n",
       "      <td>8</td>\n",
       "      <td>0</td>\n",
       "    </tr>\n",
       "    <tr>\n",
       "      <td>5</td>\n",
       "      <td>0</td>\n",
       "      <td>0</td>\n",
       "      <td>5</td>\n",
       "      <td>1</td>\n",
       "      <td>2</td>\n",
       "      <td>0</td>\n",
       "    </tr>\n",
       "  </tbody>\n",
       "</table>\n",
       "</div>"
      ],
      "text/plain": [
       "   0  1   2   3  4  5\n",
       "0  0  1   9   2  1  0\n",
       "1  0  0  10   7  3  0\n",
       "2  1  1   9  20  4  0\n",
       "3  0  0  18   7  9  0\n",
       "4  0  0  17   3  8  0\n",
       "5  0  0   5   1  2  0"
      ]
     },
     "execution_count": 24,
     "metadata": {},
     "output_type": "execute_result"
    }
   ],
   "source": [
    "pd.DataFrame(confusion_matrix(y_test.values,mm[clfs[5][0]]))  # 混淆矩阵，观察AdaBoost_DTree模型预测成功失败的分布"
   ]
  },
  {
   "cell_type": "code",
   "execution_count": 25,
   "metadata": {
    "ExecuteTime": {
     "end_time": "2019-08-03T13:42:00.830417Z",
     "start_time": "2019-08-03T13:39:44.848410Z"
    },
    "colab": {},
    "colab_type": "code",
    "id": "arEPEhKcTrJG"
   },
   "outputs": [],
   "source": [
    "# # 从文件中导入模型，如果不是已经有模型了，不用\n",
    "# clfs=[]\n",
    "# clf_names=['KNeighbors', 'MLP', 'SVCrbf', 'XGBoost', 'AdaBoost_DTree',\n",
    "#        'RandomForest', 'AdaBoost_samme', 'ExtraTrees', 'GradientBoost',\n",
    "#        'Bagging']\n",
    "          \n",
    "# for clf_name in clf_names: \n",
    "#     clfs.append([clf_name,joblib.load(u''+clf_name+'1.model')])\n"
   ]
  },
  {
   "cell_type": "code",
   "execution_count": 26,
   "metadata": {
    "ExecuteTime": {
     "end_time": "2019-07-30T22:24:03.026344Z",
     "start_time": "2019-07-30T22:23:57.330Z"
    },
    "colab": {},
    "colab_type": "code",
    "id": "z4TvU9Qxqo9u"
   },
   "outputs": [],
   "source": [
    "#单独保存模型，暂时不需要\n",
    "# for clf in clfs: \n",
    "#     joblib.dump(clf[1],clf[0]+'.model')\n"
   ]
  },
  {
   "cell_type": "code",
   "execution_count": 27,
   "metadata": {
    "ExecuteTime": {
     "end_time": "2019-08-22T13:59:08.294927Z",
     "start_time": "2019-08-22T13:59:04.547814Z"
    },
    "code_folding": [],
    "colab": {},
    "colab_type": "code",
    "id": "b8289-z6qo9x"
   },
   "outputs": [
    {
     "data": {
      "text/html": [
       "<div>\n",
       "<style scoped>\n",
       "    .dataframe tbody tr th:only-of-type {\n",
       "        vertical-align: middle;\n",
       "    }\n",
       "\n",
       "    .dataframe tbody tr th {\n",
       "        vertical-align: top;\n",
       "    }\n",
       "\n",
       "    .dataframe thead th {\n",
       "        text-align: right;\n",
       "    }\n",
       "</style>\n",
       "<table border=\"1\" class=\"dataframe\">\n",
       "  <thead>\n",
       "    <tr style=\"text-align: right;\">\n",
       "      <th></th>\n",
       "      <th>b00</th>\n",
       "      <th>b10</th>\n",
       "      <th>b20</th>\n",
       "      <th>b30</th>\n",
       "      <th>b40</th>\n",
       "      <th>b50</th>\n",
       "      <th>b01</th>\n",
       "      <th>b11</th>\n",
       "      <th>b21</th>\n",
       "      <th>b31</th>\n",
       "      <th>...</th>\n",
       "      <th>b28</th>\n",
       "      <th>b38</th>\n",
       "      <th>b48</th>\n",
       "      <th>b58</th>\n",
       "      <th>b09</th>\n",
       "      <th>b19</th>\n",
       "      <th>b29</th>\n",
       "      <th>b39</th>\n",
       "      <th>b49</th>\n",
       "      <th>b59</th>\n",
       "    </tr>\n",
       "  </thead>\n",
       "  <tbody>\n",
       "    <tr>\n",
       "      <td>0</td>\n",
       "      <td>0.10</td>\n",
       "      <td>0.05</td>\n",
       "      <td>0.50</td>\n",
       "      <td>0.10</td>\n",
       "      <td>0.15</td>\n",
       "      <td>0.10</td>\n",
       "      <td>0.036025</td>\n",
       "      <td>0.111724</td>\n",
       "      <td>0.221745</td>\n",
       "      <td>0.226644</td>\n",
       "      <td>...</td>\n",
       "      <td>0.220</td>\n",
       "      <td>0.269</td>\n",
       "      <td>0.218</td>\n",
       "      <td>0.110</td>\n",
       "      <td>0.002824</td>\n",
       "      <td>0.019419</td>\n",
       "      <td>0.353474</td>\n",
       "      <td>0.033085</td>\n",
       "      <td>0.489283</td>\n",
       "      <td>0.101915</td>\n",
       "    </tr>\n",
       "    <tr>\n",
       "      <td>1</td>\n",
       "      <td>0.00</td>\n",
       "      <td>0.00</td>\n",
       "      <td>0.25</td>\n",
       "      <td>0.30</td>\n",
       "      <td>0.25</td>\n",
       "      <td>0.20</td>\n",
       "      <td>0.006594</td>\n",
       "      <td>0.101737</td>\n",
       "      <td>0.340443</td>\n",
       "      <td>0.280576</td>\n",
       "      <td>...</td>\n",
       "      <td>0.226</td>\n",
       "      <td>0.225</td>\n",
       "      <td>0.230</td>\n",
       "      <td>0.131</td>\n",
       "      <td>0.000015</td>\n",
       "      <td>0.000071</td>\n",
       "      <td>0.782670</td>\n",
       "      <td>0.196755</td>\n",
       "      <td>0.020074</td>\n",
       "      <td>0.000415</td>\n",
       "    </tr>\n",
       "    <tr>\n",
       "      <td>2</td>\n",
       "      <td>0.05</td>\n",
       "      <td>0.15</td>\n",
       "      <td>0.10</td>\n",
       "      <td>0.25</td>\n",
       "      <td>0.30</td>\n",
       "      <td>0.15</td>\n",
       "      <td>0.011167</td>\n",
       "      <td>0.079252</td>\n",
       "      <td>0.326739</td>\n",
       "      <td>0.297806</td>\n",
       "      <td>...</td>\n",
       "      <td>0.166</td>\n",
       "      <td>0.225</td>\n",
       "      <td>0.194</td>\n",
       "      <td>0.147</td>\n",
       "      <td>0.006658</td>\n",
       "      <td>0.000282</td>\n",
       "      <td>0.568655</td>\n",
       "      <td>0.382653</td>\n",
       "      <td>0.039946</td>\n",
       "      <td>0.001806</td>\n",
       "    </tr>\n",
       "    <tr>\n",
       "      <td>3</td>\n",
       "      <td>0.00</td>\n",
       "      <td>0.25</td>\n",
       "      <td>0.10</td>\n",
       "      <td>0.30</td>\n",
       "      <td>0.20</td>\n",
       "      <td>0.15</td>\n",
       "      <td>0.004001</td>\n",
       "      <td>0.063803</td>\n",
       "      <td>0.344764</td>\n",
       "      <td>0.360152</td>\n",
       "      <td>...</td>\n",
       "      <td>0.181</td>\n",
       "      <td>0.283</td>\n",
       "      <td>0.208</td>\n",
       "      <td>0.112</td>\n",
       "      <td>0.000463</td>\n",
       "      <td>0.002516</td>\n",
       "      <td>0.011958</td>\n",
       "      <td>0.934599</td>\n",
       "      <td>0.050380</td>\n",
       "      <td>0.000085</td>\n",
       "    </tr>\n",
       "    <tr>\n",
       "      <td>4</td>\n",
       "      <td>0.00</td>\n",
       "      <td>0.10</td>\n",
       "      <td>0.25</td>\n",
       "      <td>0.20</td>\n",
       "      <td>0.40</td>\n",
       "      <td>0.05</td>\n",
       "      <td>0.023864</td>\n",
       "      <td>0.109777</td>\n",
       "      <td>0.342753</td>\n",
       "      <td>0.306610</td>\n",
       "      <td>...</td>\n",
       "      <td>0.197</td>\n",
       "      <td>0.287</td>\n",
       "      <td>0.228</td>\n",
       "      <td>0.114</td>\n",
       "      <td>0.000854</td>\n",
       "      <td>0.006739</td>\n",
       "      <td>0.195441</td>\n",
       "      <td>0.790735</td>\n",
       "      <td>0.004882</td>\n",
       "      <td>0.001348</td>\n",
       "    </tr>\n",
       "    <tr>\n",
       "      <td>...</td>\n",
       "      <td>...</td>\n",
       "      <td>...</td>\n",
       "      <td>...</td>\n",
       "      <td>...</td>\n",
       "      <td>...</td>\n",
       "      <td>...</td>\n",
       "      <td>...</td>\n",
       "      <td>...</td>\n",
       "      <td>...</td>\n",
       "      <td>...</td>\n",
       "      <td>...</td>\n",
       "      <td>...</td>\n",
       "      <td>...</td>\n",
       "      <td>...</td>\n",
       "      <td>...</td>\n",
       "      <td>...</td>\n",
       "      <td>...</td>\n",
       "      <td>...</td>\n",
       "      <td>...</td>\n",
       "      <td>...</td>\n",
       "      <td>...</td>\n",
       "    </tr>\n",
       "    <tr>\n",
       "      <td>133</td>\n",
       "      <td>0.10</td>\n",
       "      <td>0.35</td>\n",
       "      <td>0.05</td>\n",
       "      <td>0.20</td>\n",
       "      <td>0.10</td>\n",
       "      <td>0.20</td>\n",
       "      <td>0.016648</td>\n",
       "      <td>0.144640</td>\n",
       "      <td>0.295398</td>\n",
       "      <td>0.275867</td>\n",
       "      <td>...</td>\n",
       "      <td>0.228</td>\n",
       "      <td>0.230</td>\n",
       "      <td>0.130</td>\n",
       "      <td>0.123</td>\n",
       "      <td>0.015405</td>\n",
       "      <td>0.912642</td>\n",
       "      <td>0.034973</td>\n",
       "      <td>0.020947</td>\n",
       "      <td>0.000998</td>\n",
       "      <td>0.015036</td>\n",
       "    </tr>\n",
       "    <tr>\n",
       "      <td>134</td>\n",
       "      <td>0.15</td>\n",
       "      <td>0.25</td>\n",
       "      <td>0.25</td>\n",
       "      <td>0.20</td>\n",
       "      <td>0.10</td>\n",
       "      <td>0.05</td>\n",
       "      <td>0.015331</td>\n",
       "      <td>0.182272</td>\n",
       "      <td>0.289314</td>\n",
       "      <td>0.128618</td>\n",
       "      <td>...</td>\n",
       "      <td>0.240</td>\n",
       "      <td>0.233</td>\n",
       "      <td>0.189</td>\n",
       "      <td>0.075</td>\n",
       "      <td>0.000254</td>\n",
       "      <td>0.999487</td>\n",
       "      <td>0.000132</td>\n",
       "      <td>0.000093</td>\n",
       "      <td>0.000016</td>\n",
       "      <td>0.000017</td>\n",
       "    </tr>\n",
       "    <tr>\n",
       "      <td>135</td>\n",
       "      <td>0.00</td>\n",
       "      <td>0.25</td>\n",
       "      <td>0.40</td>\n",
       "      <td>0.25</td>\n",
       "      <td>0.00</td>\n",
       "      <td>0.10</td>\n",
       "      <td>0.010922</td>\n",
       "      <td>0.131033</td>\n",
       "      <td>0.538593</td>\n",
       "      <td>0.195154</td>\n",
       "      <td>...</td>\n",
       "      <td>0.235</td>\n",
       "      <td>0.237</td>\n",
       "      <td>0.147</td>\n",
       "      <td>0.120</td>\n",
       "      <td>0.033141</td>\n",
       "      <td>0.311805</td>\n",
       "      <td>0.561136</td>\n",
       "      <td>0.058692</td>\n",
       "      <td>0.033422</td>\n",
       "      <td>0.001804</td>\n",
       "    </tr>\n",
       "    <tr>\n",
       "      <td>136</td>\n",
       "      <td>0.15</td>\n",
       "      <td>0.10</td>\n",
       "      <td>0.35</td>\n",
       "      <td>0.20</td>\n",
       "      <td>0.05</td>\n",
       "      <td>0.15</td>\n",
       "      <td>0.017085</td>\n",
       "      <td>0.183030</td>\n",
       "      <td>0.314799</td>\n",
       "      <td>0.261453</td>\n",
       "      <td>...</td>\n",
       "      <td>0.256</td>\n",
       "      <td>0.244</td>\n",
       "      <td>0.124</td>\n",
       "      <td>0.115</td>\n",
       "      <td>0.428536</td>\n",
       "      <td>0.012393</td>\n",
       "      <td>0.013850</td>\n",
       "      <td>0.106983</td>\n",
       "      <td>0.431937</td>\n",
       "      <td>0.006301</td>\n",
       "    </tr>\n",
       "    <tr>\n",
       "      <td>137</td>\n",
       "      <td>0.05</td>\n",
       "      <td>0.05</td>\n",
       "      <td>0.45</td>\n",
       "      <td>0.20</td>\n",
       "      <td>0.05</td>\n",
       "      <td>0.20</td>\n",
       "      <td>0.006657</td>\n",
       "      <td>0.098318</td>\n",
       "      <td>0.401786</td>\n",
       "      <td>0.202219</td>\n",
       "      <td>...</td>\n",
       "      <td>0.248</td>\n",
       "      <td>0.237</td>\n",
       "      <td>0.146</td>\n",
       "      <td>0.118</td>\n",
       "      <td>0.834371</td>\n",
       "      <td>0.044404</td>\n",
       "      <td>0.009491</td>\n",
       "      <td>0.032336</td>\n",
       "      <td>0.012857</td>\n",
       "      <td>0.066541</td>\n",
       "    </tr>\n",
       "  </tbody>\n",
       "</table>\n",
       "<p>138 rows × 60 columns</p>\n",
       "</div>"
      ],
      "text/plain": [
       "      b00   b10   b20   b30   b40   b50       b01       b11       b21  \\\n",
       "0    0.10  0.05  0.50  0.10  0.15  0.10  0.036025  0.111724  0.221745   \n",
       "1    0.00  0.00  0.25  0.30  0.25  0.20  0.006594  0.101737  0.340443   \n",
       "2    0.05  0.15  0.10  0.25  0.30  0.15  0.011167  0.079252  0.326739   \n",
       "3    0.00  0.25  0.10  0.30  0.20  0.15  0.004001  0.063803  0.344764   \n",
       "4    0.00  0.10  0.25  0.20  0.40  0.05  0.023864  0.109777  0.342753   \n",
       "..    ...   ...   ...   ...   ...   ...       ...       ...       ...   \n",
       "133  0.10  0.35  0.05  0.20  0.10  0.20  0.016648  0.144640  0.295398   \n",
       "134  0.15  0.25  0.25  0.20  0.10  0.05  0.015331  0.182272  0.289314   \n",
       "135  0.00  0.25  0.40  0.25  0.00  0.10  0.010922  0.131033  0.538593   \n",
       "136  0.15  0.10  0.35  0.20  0.05  0.15  0.017085  0.183030  0.314799   \n",
       "137  0.05  0.05  0.45  0.20  0.05  0.20  0.006657  0.098318  0.401786   \n",
       "\n",
       "          b31  ...    b28    b38    b48    b58       b09       b19       b29  \\\n",
       "0    0.226644  ...  0.220  0.269  0.218  0.110  0.002824  0.019419  0.353474   \n",
       "1    0.280576  ...  0.226  0.225  0.230  0.131  0.000015  0.000071  0.782670   \n",
       "2    0.297806  ...  0.166  0.225  0.194  0.147  0.006658  0.000282  0.568655   \n",
       "3    0.360152  ...  0.181  0.283  0.208  0.112  0.000463  0.002516  0.011958   \n",
       "4    0.306610  ...  0.197  0.287  0.228  0.114  0.000854  0.006739  0.195441   \n",
       "..        ...  ...    ...    ...    ...    ...       ...       ...       ...   \n",
       "133  0.275867  ...  0.228  0.230  0.130  0.123  0.015405  0.912642  0.034973   \n",
       "134  0.128618  ...  0.240  0.233  0.189  0.075  0.000254  0.999487  0.000132   \n",
       "135  0.195154  ...  0.235  0.237  0.147  0.120  0.033141  0.311805  0.561136   \n",
       "136  0.261453  ...  0.256  0.244  0.124  0.115  0.428536  0.012393  0.013850   \n",
       "137  0.202219  ...  0.248  0.237  0.146  0.118  0.834371  0.044404  0.009491   \n",
       "\n",
       "          b39       b49       b59  \n",
       "0    0.033085  0.489283  0.101915  \n",
       "1    0.196755  0.020074  0.000415  \n",
       "2    0.382653  0.039946  0.001806  \n",
       "3    0.934599  0.050380  0.000085  \n",
       "4    0.790735  0.004882  0.001348  \n",
       "..        ...       ...       ...  \n",
       "133  0.020947  0.000998  0.015036  \n",
       "134  0.000093  0.000016  0.000017  \n",
       "135  0.058692  0.033422  0.001804  \n",
       "136  0.106983  0.431937  0.006301  \n",
       "137  0.032336  0.012857  0.066541  \n",
       "\n",
       "[138 rows x 60 columns]"
      ]
     },
     "execution_count": 27,
     "metadata": {},
     "output_type": "execute_result"
    }
   ],
   "source": [
    "#对test_set进行预测，计算预测正确率，并将正确率作为集合学习的train_dataset\n",
    "def get_assemble_data(clfs,X,proba=0): #proba=1则使用predict_proba预测\n",
    "    x=pd.DataFrame()\n",
    "    for i in range(len(clfs)):\n",
    "        if proba==0:\n",
    "            p_predict=clfs[i][1].predict(X)\n",
    "            x[i]=p_predict\n",
    "        else:\n",
    "            p2_predict=clfs[i][1].predict_proba(X)  # 获取每种模型的概率分布，二维列表，内层列表是一个样本一个子列表\n",
    "            for ii in range(len(bins)-1):\n",
    "                x['b'+str(ii)+str(i)]=p2_predict[:,ii]  \n",
    "                # 不同模型预测出的每个样本属于不同类别的概率分布。10个模型,6种标签类别,就是60列\n",
    "    return x\n",
    "\n",
    "\n",
    "x_train_pr=get_assemble_data(clfs,X_train,1)\n",
    "x_test_pr=get_assemble_data(clfs,X_test,1)\n",
    "x_validate_pr=get_assemble_data(clfs,X_validate,1)\n",
    "x_last_pr=get_assemble_data(clfs,X_last,1)\n",
    "x_test_pr"
   ]
  },
  {
   "cell_type": "code",
   "execution_count": 28,
   "metadata": {
    "ExecuteTime": {
     "end_time": "2019-08-22T13:59:12.102283Z",
     "start_time": "2019-08-22T13:59:08.652549Z"
    },
    "colab": {},
    "colab_type": "code",
    "id": "6YbnVrZ5qo90",
    "run_control": {
     "marked": true
    },
    "scrolled": true
   },
   "outputs": [
    {
     "name": "stdout",
     "output_type": "stream",
     "text": [
      "KNeighbors 20:30:09\n",
      "KNeighbors train acc: 0.439 test acc: 0.217 train score 0.581 test score: 0.457 train topacc 0.555 test topacc: -0.5  cost sec: 1.19\n",
      "SVC 20:30:10\n"
     ]
    },
    {
     "name": "stderr",
     "output_type": "stream",
     "text": [
      "C:\\Users\\Administrator\\Anaconda3\\lib\\site-packages\\sklearn\\svm\\base.py:193: FutureWarning: The default value of gamma will change from 'auto' to 'scale' in version 0.22 to account better for unscaled features. Set gamma explicitly to 'auto' or 'scale' to avoid this warning.\n",
      "  \"avoid this warning.\", FutureWarning)\n"
     ]
    },
    {
     "name": "stdout",
     "output_type": "stream",
     "text": [
      "SVC train acc: 0.356 test acc: 0.181 train score 0.535 test score: 0.442 train topacc 0.417 test topacc: 0.232  cost sec: 7.94\n",
      "AdaBoost 20:30:18\n",
      "AdaBoost train acc: 0.619 test acc: 0.217 train score 0.742 test score: 0.409 train topacc 0.847 test topacc: -0.2  cost sec: 7.36\n",
      "RandomForest 20:30:25\n",
      "RandomForest train acc: 1.0 test acc: 0.246 train score 1.0 test score: 0.49 train topacc 1.0 test topacc: -0.5  cost sec: 1.88\n",
      "AdaBoost2 20:30:27\n",
      "AdaBoost2 train acc: 0.521 test acc: 0.261 train score 0.67 test score: 0.461 train topacc 0.65 test topacc: -0.1  cost sec: 7.12\n"
     ]
    },
    {
     "data": {
      "text/plain": [
       "[[0.439, 0.217, 0.581, 0.457, 0.555, -0.5],\n",
       " [0.356, 0.181, 0.535, 0.442, 0.417, 0.232],\n",
       " [0.619, 0.217, 0.742, 0.409, 0.847, -0.2],\n",
       " [1.0, 0.246, 1.0, 0.49, 1.0, -0.5],\n",
       " [0.521, 0.261, 0.67, 0.461, 0.65, -0.1]]"
      ]
     },
     "execution_count": 28,
     "metadata": {},
     "output_type": "execute_result"
    }
   ],
   "source": [
    "# 对各个模型计算出来的结果进行集合学习,二次学习\n",
    "%timeit\n",
    "\n",
    "assembles_1 = [\n",
    "              ['KNeighbors',KNeighborsClassifier(10)],\n",
    "#               ['DecisionTree',DecisionTreeClassifier(random_state=0,max_depth=10,criterion='gini')],\n",
    "              ['SVC',SVC(kernel = 'rbf',probability=True)],\n",
    "#               ['LinearDiscriminant',  LinearDiscriminantAnalysis()],\n",
    "              ['AdaBoost',ensemble.AdaBoostClassifier(DecisionTreeClassifier(max_depth=3,criterion='gini'),\n",
    "                            n_estimators=100, random_state=1)],\n",
    "              ['RandomForest',ensemble.RandomForestClassifier(n_estimators=100, random_state=1)],\n",
    "              ['AdaBoost2',ensemble.AdaBoostClassifier(DecisionTreeClassifier(max_depth=3, min_samples_split=2, min_samples_leaf=2),\n",
    "                           algorithm=\"SAMME\", n_estimators=100, learning_rate=0.8)]\n",
    "            ]\n",
    "\n",
    "        \n",
    "acc_assemble=clfs_fit(assembles_1,x_validate_pr,y_validate,x_test_pr,y_test,0)  \n",
    "# x_validate_pr经过第一次学习的学习器，已经生成了一堆的概率分布，不知道这里为啥要重新进行一次训练。。。。。。\n",
    "# acc_assemble=clfs_fit(assembles_1,x_validate_pr,y_validate,x_test_pr,y_test,0)\n",
    "acc_assemble"
   ]
  },
  {
   "cell_type": "code",
   "execution_count": 29,
   "metadata": {
    "ExecuteTime": {
     "end_time": "2019-08-22T13:45:22.257229Z",
     "start_time": "2019-08-22T13:45:22.250686Z"
    }
   },
   "outputs": [
    {
     "data": {
      "text/plain": [
       "array([0.2038835 , 0.19268111, 0.16803585, 0.22852875, 0.2068708 ])"
      ]
     },
     "execution_count": 29,
     "metadata": {},
     "output_type": "execute_result"
    }
   ],
   "source": [
    "#根据二次学习结果打印输出权重矩阵\n",
    "weight_assemble=pd.DataFrame(acc_assemble).iloc[:,3]-0.92/5\n",
    "weight_assemble=weight_assemble/weight_assemble.sum()  # 各模型的训练集acc_n分数，归一化，比较各模型的效果\n",
    "weight_assemble.values"
   ]
  },
  {
   "cell_type": "code",
   "execution_count": 37,
   "metadata": {
    "ExecuteTime": {
     "end_time": "2019-08-22T13:45:22.639146Z",
     "start_time": "2019-08-22T13:45:22.571634Z"
    }
   },
   "outputs": [
    {
     "data": {
      "text/html": [
       "<div>\n",
       "<style scoped>\n",
       "    .dataframe tbody tr th:only-of-type {\n",
       "        vertical-align: middle;\n",
       "    }\n",
       "\n",
       "    .dataframe tbody tr th {\n",
       "        vertical-align: top;\n",
       "    }\n",
       "\n",
       "    .dataframe thead th {\n",
       "        text-align: right;\n",
       "    }\n",
       "</style>\n",
       "<table border=\"1\" class=\"dataframe\">\n",
       "  <thead>\n",
       "    <tr style=\"text-align: right;\">\n",
       "      <th></th>\n",
       "      <th>0</th>\n",
       "      <th>1</th>\n",
       "      <th>2</th>\n",
       "      <th>3</th>\n",
       "      <th>4</th>\n",
       "      <th>5</th>\n",
       "    </tr>\n",
       "  </thead>\n",
       "  <tbody>\n",
       "    <tr>\n",
       "      <td>0</td>\n",
       "      <td>0</td>\n",
       "      <td>1</td>\n",
       "      <td>9</td>\n",
       "      <td>3</td>\n",
       "      <td>0</td>\n",
       "      <td>0</td>\n",
       "    </tr>\n",
       "    <tr>\n",
       "      <td>1</td>\n",
       "      <td>0</td>\n",
       "      <td>1</td>\n",
       "      <td>8</td>\n",
       "      <td>10</td>\n",
       "      <td>1</td>\n",
       "      <td>0</td>\n",
       "    </tr>\n",
       "    <tr>\n",
       "      <td>2</td>\n",
       "      <td>0</td>\n",
       "      <td>0</td>\n",
       "      <td>20</td>\n",
       "      <td>14</td>\n",
       "      <td>1</td>\n",
       "      <td>0</td>\n",
       "    </tr>\n",
       "    <tr>\n",
       "      <td>3</td>\n",
       "      <td>0</td>\n",
       "      <td>1</td>\n",
       "      <td>15</td>\n",
       "      <td>17</td>\n",
       "      <td>1</td>\n",
       "      <td>0</td>\n",
       "    </tr>\n",
       "    <tr>\n",
       "      <td>4</td>\n",
       "      <td>0</td>\n",
       "      <td>0</td>\n",
       "      <td>19</td>\n",
       "      <td>8</td>\n",
       "      <td>1</td>\n",
       "      <td>0</td>\n",
       "    </tr>\n",
       "    <tr>\n",
       "      <td>5</td>\n",
       "      <td>0</td>\n",
       "      <td>1</td>\n",
       "      <td>5</td>\n",
       "      <td>2</td>\n",
       "      <td>0</td>\n",
       "      <td>0</td>\n",
       "    </tr>\n",
       "  </tbody>\n",
       "</table>\n",
       "</div>"
      ],
      "text/plain": [
       "   0  1   2   3  4  5\n",
       "0  0  1   9   3  0  0\n",
       "1  0  1   8  10  1  0\n",
       "2  0  0  20  14  1  0\n",
       "3  0  1  15  17  1  0\n",
       "4  0  0  19   8  1  0\n",
       "5  0  1   5   2  0  0"
      ]
     },
     "execution_count": 37,
     "metadata": {},
     "output_type": "execute_result"
    }
   ],
   "source": [
    "# 对二次学习的各算法，进行预测，输出预测结果\n",
    "mm=pd.DataFrame()\n",
    "for clf in assembles_1:  \n",
    "    t_predict=clf[1].predict(x_test_pr)\n",
    "    mm[clf[0]]=t_predict\n",
    "pred=np.dot(mm,weight_assemble)  # 各模型输出结果，乘以各自模型的效果，得到加权的最终结果（四舍五入变为整数）\n",
    "pd.DataFrame(confusion_matrix(y_test.values, np.round(pred,0)))  "
   ]
  },
  {
   "cell_type": "markdown",
   "metadata": {},
   "source": [
    "### 预测近2日趋势"
   ]
  },
  {
   "cell_type": "code",
   "execution_count": 39,
   "metadata": {
    "ExecuteTime": {
     "end_time": "2019-08-22T13:47:08.957875Z",
     "start_time": "2019-08-22T13:45:22.953378Z"
    }
   },
   "outputs": [
    {
     "name": "stdout",
     "output_type": "stream",
     "text": [
      "KNeighbors 21:10:28\n",
      "KNeighbors train acc: 0.418 test acc: 0.37 train score 0.567 test score: 0.578 train topacc 0.452 test topacc: 0.167  cost sec: 4.45\n",
      "MLP 21:10:32\n",
      "MLP train acc: 0.398 test acc: 0.362 train score 0.588 test score: 0.61 train topacc 0.511 test topacc: 0.632  cost sec: 1.39\n",
      "SVCrbf 21:10:34\n"
     ]
    },
    {
     "name": "stderr",
     "output_type": "stream",
     "text": [
      "C:\\Users\\Administrator\\Anaconda3\\lib\\site-packages\\sklearn\\svm\\base.py:193: FutureWarning: The default value of gamma will change from 'auto' to 'scale' in version 0.22 to account better for unscaled features. Set gamma explicitly to 'auto' or 'scale' to avoid this warning.\n",
      "  \"avoid this warning.\", FutureWarning)\n"
     ]
    },
    {
     "name": "stdout",
     "output_type": "stream",
     "text": [
      "SVCrbf train acc: 0.293 test acc: 0.297 train score 0.459 test score: 0.514 train topacc 0.204 test topacc: 0.47  cost sec: 42.59\n",
      "DecisionTree 21:11:16\n",
      "DecisionTree train acc: 0.359 test acc: 0.42 train score 0.498 test score: 0.607 train topacc 0.234 test topacc: -0.118  cost sec: 0.26\n",
      "XGBoost 21:11:17\n",
      "XGBoost train acc: 1.0 test acc: 1.0 train score 1.0 test score: 1.0 train topacc 1.0 test topacc: 1.0  cost sec: 51.32\n",
      "AdaBoost_DTree 21:12:08\n",
      "AdaBoost_DTree train acc: 1.0 test acc: 1.0 train score 1.0 test score: 1.0 train topacc 1.0 test topacc: 1.0  cost sec: 94.42\n",
      "RandomForest 21:13:42\n",
      "RandomForest train acc: 1.0 test acc: 1.0 train score 1.0 test score: 1.0 train topacc 1.0 test topacc: 1.0  cost sec: 12.97\n",
      "AdaBoost_samme 21:13:55\n",
      "AdaBoost_samme train acc: 1.0 test acc: 1.0 train score 1.0 test score: 1.0 train topacc 1.0 test topacc: 1.0  cost sec: 94.46\n",
      "ExtraTrees 21:15:30\n",
      "ExtraTrees train acc: 1.0 test acc: 1.0 train score 1.0 test score: 1.0 train topacc 1.0 test topacc: 1.0  cost sec: 6.5\n",
      "GradientBoost 21:15:36\n",
      "GradientBoost train acc: 1.0 test acc: 1.0 train score 1.0 test score: 1.0 train topacc 1.0 test topacc: 1.0  cost sec: 55.46\n"
     ]
    },
    {
     "name": "stderr",
     "output_type": "stream",
     "text": [
      "C:\\Users\\Administrator\\Anaconda3\\lib\\site-packages\\ipykernel_launcher.py:10: UserWarning: Pandas doesn't allow columns to be created via a new attribute name - see https://pandas.pydata.org/pandas-docs/stable/indexing.html#attribute-access\n",
      "  # Remove the CWD from sys.path while we load stuff.\n"
     ]
    },
    {
     "data": {
      "text/plain": [
       "KNeighbors      2.0\n",
       "SVC             2.0\n",
       "AdaBoost        3.0\n",
       "RandomForest    2.0\n",
       "AdaBoost2       2.0\n",
       "mean            2.0\n",
       "dtype: float64"
      ]
     },
     "execution_count": 39,
     "metadata": {},
     "output_type": "execute_result"
    }
   ],
   "source": [
    "#利用所有样本数据进行学习\n",
    "accuracy_result=clfs_fit(clfs,X_all,y_all,X_test,y_test,0)\n",
    "#二次学习模型决策（用最后12日数据进行决策）\n",
    "x_last_end_pr=get_assemble_data(clfs,X_last,1)  # 用第一次的10种模型进行预测，得出10种模型对6种分类分别的概率，一共60列\n",
    "mm=pd.DataFrame()\n",
    "for clf in assembles_1:  # 把第一次得到的概率分布，再用第二次的5种模型进行预测，得到预测结果\n",
    "    t_predict=clf[1].predict(x_last_end_pr)\n",
    "    mm[clf[0]]=t_predict\n",
    "mm['mean']=np.dot(mm,weight_assemble)  # 加权平均各模型预测值，得到每个样本最终预测值\n",
    "\n"
   ]
  },
  {
   "cell_type": "code",
   "execution_count": 46,
   "metadata": {
    "ExecuteTime": {
     "end_time": "2019-08-22T13:47:09.393903Z",
     "start_time": "2019-08-22T13:47:09.346020Z"
    }
   },
   "outputs": [
    {
     "data": {
      "text/html": [
       "<div>\n",
       "<style scoped>\n",
       "    .dataframe tbody tr th:only-of-type {\n",
       "        vertical-align: middle;\n",
       "    }\n",
       "\n",
       "    .dataframe tbody tr th {\n",
       "        vertical-align: top;\n",
       "    }\n",
       "\n",
       "    .dataframe thead th {\n",
       "        text-align: right;\n",
       "    }\n",
       "</style>\n",
       "<table border=\"1\" class=\"dataframe\">\n",
       "  <thead>\n",
       "    <tr style=\"text-align: right;\">\n",
       "      <th></th>\n",
       "      <th>KNeighbors</th>\n",
       "      <th>SVC</th>\n",
       "      <th>AdaBoost</th>\n",
       "      <th>RandomForest</th>\n",
       "      <th>AdaBoost2</th>\n",
       "      <th>mean</th>\n",
       "    </tr>\n",
       "  </thead>\n",
       "  <tbody>\n",
       "    <tr>\n",
       "      <td>0</td>\n",
       "      <td>2</td>\n",
       "      <td>2</td>\n",
       "      <td>4</td>\n",
       "      <td>2</td>\n",
       "      <td>3</td>\n",
       "      <td>2.542942</td>\n",
       "    </tr>\n",
       "    <tr>\n",
       "      <td>1</td>\n",
       "      <td>2</td>\n",
       "      <td>4</td>\n",
       "      <td>3</td>\n",
       "      <td>3</td>\n",
       "      <td>2</td>\n",
       "      <td>2.781927</td>\n",
       "    </tr>\n",
       "    <tr>\n",
       "      <td>2</td>\n",
       "      <td>2</td>\n",
       "      <td>2</td>\n",
       "      <td>2</td>\n",
       "      <td>2</td>\n",
       "      <td>2</td>\n",
       "      <td>2.000000</td>\n",
       "    </tr>\n",
       "    <tr>\n",
       "      <td>3</td>\n",
       "      <td>2</td>\n",
       "      <td>2</td>\n",
       "      <td>4</td>\n",
       "      <td>3</td>\n",
       "      <td>3</td>\n",
       "      <td>2.771471</td>\n",
       "    </tr>\n",
       "    <tr>\n",
       "      <td>4</td>\n",
       "      <td>2</td>\n",
       "      <td>2</td>\n",
       "      <td>4</td>\n",
       "      <td>2</td>\n",
       "      <td>2</td>\n",
       "      <td>2.336072</td>\n",
       "    </tr>\n",
       "    <tr>\n",
       "      <td>5</td>\n",
       "      <td>3</td>\n",
       "      <td>2</td>\n",
       "      <td>3</td>\n",
       "      <td>1</td>\n",
       "      <td>1</td>\n",
       "      <td>1.936520</td>\n",
       "    </tr>\n",
       "    <tr>\n",
       "      <td>6</td>\n",
       "      <td>4</td>\n",
       "      <td>2</td>\n",
       "      <td>4</td>\n",
       "      <td>2</td>\n",
       "      <td>2</td>\n",
       "      <td>2.743839</td>\n",
       "    </tr>\n",
       "    <tr>\n",
       "      <td>7</td>\n",
       "      <td>2</td>\n",
       "      <td>2</td>\n",
       "      <td>3</td>\n",
       "      <td>2</td>\n",
       "      <td>3</td>\n",
       "      <td>2.374907</td>\n",
       "    </tr>\n",
       "    <tr>\n",
       "      <td>8</td>\n",
       "      <td>1</td>\n",
       "      <td>2</td>\n",
       "      <td>4</td>\n",
       "      <td>3</td>\n",
       "      <td>3</td>\n",
       "      <td>2.567588</td>\n",
       "    </tr>\n",
       "    <tr>\n",
       "      <td>9</td>\n",
       "      <td>3</td>\n",
       "      <td>2</td>\n",
       "      <td>2</td>\n",
       "      <td>1</td>\n",
       "      <td>2</td>\n",
       "      <td>1.975355</td>\n",
       "    </tr>\n",
       "    <tr>\n",
       "      <td>10</td>\n",
       "      <td>2</td>\n",
       "      <td>4</td>\n",
       "      <td>4</td>\n",
       "      <td>1</td>\n",
       "      <td>3</td>\n",
       "      <td>2.699776</td>\n",
       "    </tr>\n",
       "    <tr>\n",
       "      <td>11</td>\n",
       "      <td>2</td>\n",
       "      <td>2</td>\n",
       "      <td>3</td>\n",
       "      <td>1</td>\n",
       "      <td>2</td>\n",
       "      <td>1.939507</td>\n",
       "    </tr>\n",
       "  </tbody>\n",
       "</table>\n",
       "</div>"
      ],
      "text/plain": [
       "    KNeighbors  SVC  AdaBoost  RandomForest  AdaBoost2      mean\n",
       "0            2    2         4             2          3  2.542942\n",
       "1            2    4         3             3          2  2.781927\n",
       "2            2    2         2             2          2  2.000000\n",
       "3            2    2         4             3          3  2.771471\n",
       "4            2    2         4             2          2  2.336072\n",
       "5            3    2         3             1          1  1.936520\n",
       "6            4    2         4             2          2  2.743839\n",
       "7            2    2         3             2          3  2.374907\n",
       "8            1    2         4             3          3  2.567588\n",
       "9            3    2         2             1          2  1.975355\n",
       "10           2    4         4             1          3  2.699776\n",
       "11           2    2         3             1          2  1.939507"
      ]
     },
     "execution_count": 46,
     "metadata": {},
     "output_type": "execute_result"
    }
   ],
   "source": [
    "mm.true=np.round(mm.mean(axis=0))  # 12天每天的每种算法的预测值和整体预测值取平均，四舍五入\n",
    "mm"
   ]
  },
  {
   "cell_type": "markdown",
   "metadata": {
    "ExecuteTime": {
     "end_time": "2019-08-06T11:14:57.106373Z",
     "start_time": "2019-08-06T11:14:57.103207Z"
    },
    "colab": {},
    "colab_type": "code",
    "id": "ULA2wh0gjgwY"
   },
   "source": [
    "## 找数据来测试模型效果\n"
   ]
  },
  {
   "cell_type": "code",
   "execution_count": 68,
   "metadata": {
    "ExecuteTime": {
     "end_time": "2019-08-09T00:38:26.614902Z",
     "start_time": "2019-08-09T00:37:48.392247Z"
    }
   },
   "outputs": [
    {
     "name": "stdout",
     "output_type": "stream",
     "text": [
      "login success!\n",
      "logout success!\n"
     ]
    },
    {
     "data": {
      "text/html": [
       "<div>\n",
       "<style scoped>\n",
       "    .dataframe tbody tr th:only-of-type {\n",
       "        vertical-align: middle;\n",
       "    }\n",
       "\n",
       "    .dataframe tbody tr th {\n",
       "        vertical-align: top;\n",
       "    }\n",
       "\n",
       "    .dataframe thead th {\n",
       "        text-align: right;\n",
       "    }\n",
       "</style>\n",
       "<table border=\"1\" class=\"dataframe\">\n",
       "  <thead>\n",
       "    <tr style=\"text-align: right;\">\n",
       "      <th></th>\n",
       "      <th>date</th>\n",
       "      <th>code</th>\n",
       "      <th>close</th>\n",
       "      <th>open</th>\n",
       "      <th>low</th>\n",
       "      <th>high</th>\n",
       "      <th>volume</th>\n",
       "      <th>amount</th>\n",
       "    </tr>\n",
       "  </thead>\n",
       "  <tbody>\n",
       "    <tr>\n",
       "      <td>0</td>\n",
       "      <td>2016-01-04</td>\n",
       "      <td>sh.600256</td>\n",
       "      <td>6.45</td>\n",
       "      <td>6.64</td>\n",
       "      <td>6.36</td>\n",
       "      <td>6.66</td>\n",
       "      <td>17178500.0</td>\n",
       "      <td>112140896.0</td>\n",
       "    </tr>\n",
       "    <tr>\n",
       "      <td>1</td>\n",
       "      <td>2016-01-04</td>\n",
       "      <td>sh.600256</td>\n",
       "      <td>6.38</td>\n",
       "      <td>6.46</td>\n",
       "      <td>6.35</td>\n",
       "      <td>6.48</td>\n",
       "      <td>7851900.0</td>\n",
       "      <td>50304400.0</td>\n",
       "    </tr>\n",
       "    <tr>\n",
       "      <td>2</td>\n",
       "      <td>2016-01-04</td>\n",
       "      <td>sh.600256</td>\n",
       "      <td>6.03</td>\n",
       "      <td>6.38</td>\n",
       "      <td>6.03</td>\n",
       "      <td>6.38</td>\n",
       "      <td>9574100.0</td>\n",
       "      <td>59806512.0</td>\n",
       "    </tr>\n",
       "    <tr>\n",
       "      <td>3</td>\n",
       "      <td>2016-01-04</td>\n",
       "      <td>sh.600256</td>\n",
       "      <td>6.05</td>\n",
       "      <td>6.03</td>\n",
       "      <td>6.03</td>\n",
       "      <td>6.05</td>\n",
       "      <td>22000.0</td>\n",
       "      <td>132688.0</td>\n",
       "    </tr>\n",
       "    <tr>\n",
       "      <td>4</td>\n",
       "      <td>2016-01-05</td>\n",
       "      <td>sh.600256</td>\n",
       "      <td>6.07</td>\n",
       "      <td>5.92</td>\n",
       "      <td>5.88</td>\n",
       "      <td>6.15</td>\n",
       "      <td>19122200.0</td>\n",
       "      <td>115061904.0</td>\n",
       "    </tr>\n",
       "  </tbody>\n",
       "</table>\n",
       "</div>"
      ],
      "text/plain": [
       "         date       code  close  open   low  high      volume       amount\n",
       "0  2016-01-04  sh.600256   6.45  6.64  6.36  6.66  17178500.0  112140896.0\n",
       "1  2016-01-04  sh.600256   6.38  6.46  6.35  6.48   7851900.0   50304400.0\n",
       "2  2016-01-04  sh.600256   6.03  6.38  6.03  6.38   9574100.0   59806512.0\n",
       "3  2016-01-04  sh.600256   6.05  6.03  6.03  6.05     22000.0     132688.0\n",
       "4  2016-01-05  sh.600256   6.07  5.92  5.88  6.15  19122200.0  115061904.0"
      ]
     },
     "execution_count": 68,
     "metadata": {},
     "output_type": "execute_result"
    }
   ],
   "source": [
    "# stocks_test=pd.read_sql('select code from sz50',con=conn).sort_index().code.values[10:20]  # 从上证50成分股拿10只股票的代码\n",
    "lg = bs.login()\n",
    "testdatas=getBaostock(\"sh.600256\",'2016-01-01','2019-11-20','60') # 获取这10只股票数据\n",
    "lg = bs.logout()\n",
    "testdatas.head()"
   ]
  },
  {
   "cell_type": "code",
   "execution_count": 69,
   "metadata": {
    "ExecuteTime": {
     "end_time": "2019-08-08T14:54:11.848082Z",
     "start_time": "2019-08-08T14:54:11.619512Z"
    },
    "colab": {},
    "colab_type": "code",
    "id": "djtK0-aaqo93"
   },
   "outputs": [
    {
     "ename": "NameError",
     "evalue": "name 'cutSplitData' is not defined",
     "output_type": "error",
     "traceback": [
      "\u001b[1;31m---------------------------------------------------------------------------\u001b[0m",
      "\u001b[1;31mNameError\u001b[0m                                 Traceback (most recent call last)",
      "\u001b[1;32m<ipython-input-69-c7826f763786>\u001b[0m in \u001b[0;36m<module>\u001b[1;34m\u001b[0m\n\u001b[0;32m      1\u001b[0m \u001b[0mtestdatas\u001b[0m\u001b[1;33m=\u001b[0m\u001b[0mtestdatas\u001b[0m\u001b[1;33m.\u001b[0m\u001b[0mdropna\u001b[0m\u001b[1;33m(\u001b[0m\u001b[1;33m)\u001b[0m\u001b[1;33m\u001b[0m\u001b[1;33m\u001b[0m\u001b[0m\n\u001b[1;32m----> 2\u001b[1;33m \u001b[0mX_testdatas_ori\u001b[0m\u001b[1;33m,\u001b[0m\u001b[0my_testdatas\u001b[0m\u001b[1;33m=\u001b[0m\u001b[0mcutSplitData\u001b[0m\u001b[1;33m(\u001b[0m\u001b[0mtestdatas\u001b[0m\u001b[1;33m)\u001b[0m  \u001b[1;31m# 切分数据集，分开特征和标签\u001b[0m\u001b[1;33m\u001b[0m\u001b[1;33m\u001b[0m\u001b[0m\n\u001b[0m\u001b[0;32m      3\u001b[0m \u001b[0mX_tesdatas\u001b[0m\u001b[1;33m=\u001b[0m\u001b[0mpca\u001b[0m\u001b[1;33m.\u001b[0m\u001b[0mtransform\u001b[0m\u001b[1;33m(\u001b[0m\u001b[0mX_testdatas_ori\u001b[0m\u001b[1;33m)\u001b[0m  \u001b[1;31m# PCA降维处理\u001b[0m\u001b[1;33m\u001b[0m\u001b[1;33m\u001b[0m\u001b[0m\n\u001b[0;32m      4\u001b[0m \u001b[0mtestdatas\u001b[0m\u001b[1;33m.\u001b[0m\u001b[0mshape\u001b[0m\u001b[1;33m\u001b[0m\u001b[1;33m\u001b[0m\u001b[0m\n",
      "\u001b[1;31mNameError\u001b[0m: name 'cutSplitData' is not defined"
     ]
    }
   ],
   "source": [
    "testdatas=testdatas.dropna()\n",
    "X_testdatas_ori,y_testdatas=cutSplitData(testdatas)  # 切分数据集，分开特征和标签\n",
    "X_tesdatas=pca.transform(X_testdatas_ori)  # PCA降维处理\n",
    "testdatas.shape"
   ]
  },
  {
   "cell_type": "code",
   "execution_count": null,
   "metadata": {
    "ExecuteTime": {
     "end_time": "2019-08-08T14:57:16.617190Z",
     "start_time": "2019-08-08T14:57:16.388655Z"
    }
   },
   "outputs": [],
   "source": [
    "y_testdatas.hist()"
   ]
  },
  {
   "cell_type": "code",
   "execution_count": null,
   "metadata": {
    "ExecuteTime": {
     "end_time": "2019-08-08T14:56:15.978522Z",
     "start_time": "2019-08-08T14:55:42.015816Z"
    },
    "colab": {},
    "colab_type": "code",
    "id": "fgCUuvR9j72k"
   },
   "outputs": [],
   "source": [
    "\n",
    "vote1=get_assemble_data(clfs,X_tesdatas,0)  # 获取第1次学习10个算法计算后的结果\n",
    "# X_tesdatas_pr=get_assemble_data(clfs,X_tesdatas,1)\n",
    "# votes=get_assemble_data(assembles_1,X_tesdatas_pr,0)\n",
    "# votes.index=prices_data.index\n",
    "confusion_matrix(y_testdatas,votes[0])"
   ]
  },
  {
   "cell_type": "code",
   "execution_count": null,
   "metadata": {
    "ExecuteTime": {
     "end_time": "2019-08-08T14:56:48.242143Z",
     "start_time": "2019-08-08T14:56:48.223449Z"
    }
   },
   "outputs": [],
   "source": [
    "pd.DataFrame(confusion_matrix(y_testdatas,vote1[0]))"
   ]
  },
  {
   "cell_type": "code",
   "execution_count": null,
   "metadata": {
    "ExecuteTime": {
     "end_time": "2019-08-06T13:19:34.701466Z",
     "start_time": "2019-08-06T13:19:34.674606Z"
    },
    "scrolled": true
   },
   "outputs": [],
   "source": [
    "x=7\n",
    "print(vote1[vote1[x]==5][0].count())\n",
    "print(y_testdatas[y_testdatas==5].count())\n",
    "print(y_testdatas.groupby(values).count())\n",
    "\n",
    "# acdata=get_acc_data(y_testdatas.values,vote1[x])\n",
    "\n",
    "# print(acdata)\n",
    "cmatrix=confusion_matrix(y_testdatas.values,vote1[x])\n",
    "pd.DataFrame(cmatrix)\n",
    "    \n",
    "    # creport=classification_report(ya,yp)"
   ]
  },
  {
   "cell_type": "code",
   "execution_count": null,
   "metadata": {},
   "outputs": [],
   "source": []
  },
  {
   "cell_type": "code",
   "execution_count": null,
   "metadata": {
    "ExecuteTime": {
     "end_time": "2019-08-03T01:04:16.735626Z",
     "start_time": "2019-08-03T01:04:12.973552Z"
    },
    "colab": {},
    "colab_type": "code",
    "id": "KVAXGATUUIU1"
   },
   "outputs": [],
   "source": [
    "# code='600000'\n",
    "# start_date='2019-01-01'\n",
    "# end_date='2019-08-01'\n",
    "# sql='select date,open,high,low,close,preclose,volume,amount from k'+code[:4]\n",
    "# price=pd.read_sql(sql=sql,con=conn).sort_index()"
   ]
  },
  {
   "cell_type": "code",
   "execution_count": null,
   "metadata": {
    "ExecuteTime": {
     "end_time": "2019-08-03T05:06:16.033104Z",
     "start_time": "2019-08-03T05:06:10.437858Z"
    },
    "colab": {},
    "colab_type": "code",
    "id": "Xu5JQrOaTPGJ"
   },
   "outputs": [],
   "source": [
    "\n",
    "# stocks_test=pd.read_sql('select code from hs300',con=conn).sort_index().code.values\n",
    "\n",
    "# testdatas=getStockDatas(stocks_test,'2016-01-01','2019-06-30',1) \n",
    "\n",
    "\n",
    "\n",
    "# X_prices_feature =prices_feature.drop(['resultm','result'],axis=1)\n",
    "# X_prices_feature=X_prices_feature.fillna(0)\n",
    "# y_prices_feature =prices_close\n",
    "\n",
    "prices_pr=get_assemble_data(clfs,X_prices_feature,1)\n",
    "votes=get_assemble_data(assembles_1,prices_pr,0)\n",
    "votes.index=prices_data.index\n",
    "votes.head()"
   ]
  },
  {
   "cell_type": "code",
   "execution_count": null,
   "metadata": {},
   "outputs": [],
   "source": []
  },
  {
   "cell_type": "code",
   "execution_count": null,
   "metadata": {
    "ExecuteTime": {
     "end_time": "2019-08-03T05:20:15.375540Z",
     "start_time": "2019-08-03T05:20:15.360869Z"
    }
   },
   "outputs": [],
   "source": [
    "acc_assembles=np.array([0.369, 0.543, 0.518, 0.428])\n",
    "votes_array=(votes*np.array(acc_assembles/acc_assembles.sum())).sum(axis=1)\n",
    "\n",
    "prices_data['vote']=votes_array\n",
    "prices_data.tail()\n"
   ]
  },
  {
   "cell_type": "code",
   "execution_count": null,
   "metadata": {
    "ExecuteTime": {
     "end_time": "2019-08-03T05:43:26.481930Z",
     "start_time": "2019-08-03T05:43:26.352891Z"
    }
   },
   "outputs": [],
   "source": [
    "%reload_ext rqalpha\n"
   ]
  },
  {
   "cell_type": "code",
   "execution_count": null,
   "metadata": {
    "ExecuteTime": {
     "end_time": "2019-08-03T05:44:24.602983Z",
     "start_time": "2019-08-03T05:44:24.597428Z"
    }
   },
   "outputs": [],
   "source": [
    "from notebook.services.config import ConfigManager\n",
    "cm = ConfigManager().update('notebook', {'limit_output': 100000})"
   ]
  },
  {
   "cell_type": "code",
   "execution_count": null,
   "metadata": {
    "ExecuteTime": {
     "end_time": "2019-08-03T06:07:06.794099Z",
     "start_time": "2019-08-03T06:07:05.610689Z"
    },
    "colab": {},
    "colab_type": "code",
    "id": "uGpUH6T_qo97",
    "scrolled": false
   },
   "outputs": [],
   "source": [
    "%%rqalpha -s 20190101 -e 20190505 -p -bm 000001.XSHG --account stock 100000\n",
    "import getcharacter\n",
    "import talib\n",
    "import pandas as pd\n",
    "# 在这个方法中编写任何的初始化逻辑。context对象将会在你的算法策略的任何方法之间做传递。\n",
    "def init(context):\n",
    "\n",
    "    # 选择我们感兴趣的股票\n",
    "    context.s1 = \"000001.XSHE\"\n",
    "    context.s2 = \"601988.XSHG\"\n",
    "    context.s3 = \"000068.XSHE\"\n",
    "    context.stocks = [context.s1, context.s2, context.s3]\n",
    "\n",
    "    context.TIME_PERIOD = 14\n",
    "    context.HIGH_RSI = 85\n",
    "    context.LOW_RSI = 30\n",
    "    context.ORDER_PERCENT = 0.3\n",
    "\n",
    "\n",
    "# 你选择的证券的数据更新将会触发此段逻辑，例如日或分钟历史数据切片或者是实时数据切片更新\n",
    "def handle_bar(context, bar_dict):\n",
    "    # 开始编写你的主要的算法逻辑\n",
    "\n",
    "    # bar_dict[order_book_id] 可以拿到某个证券的bar信息\n",
    "    # context.portfolio 可以拿到现在的投资组合状态信息\n",
    "\n",
    "    # 使用order_shares(id_or_ins, amount)方法进行落单\n",
    "\n",
    "    # TODO: 开始编写你的算法吧！\n",
    "\n",
    "    # 对我们选中的股票集合进行loop，运算每一只股票的RSI数值\n",
    "    for stock in context.stocks:\n",
    "        # 读取历史数据\n",
    "        prices = history_bars(stock, context.TIME_PERIOD+1, '1d', 'close')\n",
    "\n",
    "#         # 用Talib计算RSI值\n",
    "        xprice_feature=getcharacter.getStockCharacter(pd.DataFrame(prices)).astype('float16')[100:]\n",
    "\n",
    "#         X_prices_feature =prices_feature.drop(['resultm','result'],axis=1)\n",
    "#         X_prices_feature=X_prices_feature.fillna(0)\n",
    "#         prices_pr=get_assemble_data(clfs,X_prices_feature,1)\n",
    "#         votes=get_assemble_data(assembles_1,prices_pr,0)\n",
    "#         rsi_data = talib.RSI(prices, timeperiod=context.TIME_PERIOD)[-1]\n",
    "\n",
    "#         cur_position = context.portfolio.positions[stock].quantity\n",
    "#         # 用剩余现金的30%来购买新的股票\n",
    "#         target_available_cash = context.portfolio.cash * context.ORDER_PERCENT\n",
    "\n",
    "#         # 当RSI大于设置的上限阀值，清仓该股票\n",
    "#         if rsi_data > context.HIGH_RSI and cur_position > 0:\n",
    "#             order_target_value(stock, 0)\n",
    "\n",
    "#         # 当RSI小于设置的下限阀值，用剩余cash的一定比例补仓该股\n",
    "#         if rsi_data < context.LOW_RSI:\n",
    "# #             logger.info(\"target available cash caled: \" + str(target_available_cash))\n",
    "#             # 如果剩余的现金不够一手 - 100shares，那么会被ricequant 的order management system reject掉\n",
    "#             order_value(stock, target_available_cash)"
   ]
  },
  {
   "cell_type": "code",
   "execution_count": null,
   "metadata": {
    "ExecuteTime": {
     "end_time": "2019-08-03T05:13:30.130915Z",
     "start_time": "2019-08-03T05:13:30.123245Z"
    }
   },
   "outputs": [],
   "source": []
  },
  {
   "cell_type": "code",
   "execution_count": null,
   "metadata": {
    "ExecuteTime": {
     "end_time": "2019-08-03T05:13:32.018493Z",
     "start_time": "2019-08-03T05:13:31.971459Z"
    }
   },
   "outputs": [],
   "source": []
  },
  {
   "cell_type": "code",
   "execution_count": null,
   "metadata": {
    "ExecuteTime": {
     "end_time": "2019-08-03T01:14:51.757803Z",
     "start_time": "2019-08-03T01:14:33.901420Z"
    },
    "colab": {},
    "colab_type": "code",
    "id": "ple0bz0zqo99",
    "scrolled": true
   },
   "outputs": [],
   "source": [
    "#利用一支股票进行回测\n",
    "#集合投票取平均，得到\n",
    "k=pd.DataFrame()\n",
    "profit=pd.DataFrame()\n",
    "\n",
    "# for i in range(len(stocks)):\n",
    "for x in range(0,1):\n",
    "#     try:\n",
    "        \n",
    "        price_predict=getDataFromMysql(stocks[i],'2014-01-01','2019-04-02')\n",
    "#         price.set_index('date',inplace=True)\n",
    "\n",
    "        if len(price)<=200:\n",
    "            print(stocks[i],'data too short , pass')\n",
    "        else:\n",
    "            price_features=getcharacter.getStockCharacter(price).astype('float16')\n",
    "\n",
    "            print(i,'of',len(stocks),stocks[i],xprice_feature.shape)\n",
    "\n",
    "            pre_price_feature=price_features.drop(['resultm','result'],axis=1) \n",
    "            pre_price_result=price_features['result']\n",
    "\n",
    "\n",
    "            pre_price_feature=pre_price_feature.dropna()\n",
    "\n",
    "            stock_train=assemble_train(clfs,pre_price_feature,1)\n",
    "            stock_result=assemble_train(assembles_1,stock_train)\n",
    "\n",
    "            votes=(stock_result*accuracy_assembles).sum(axis=1)\n",
    "    #         votes.hist()\n",
    "    #         plt.show()\n",
    "    #         print(votes)\n",
    "            tr=[0]\n",
    "            hold=[0,0]\n",
    "            k['day_pr']=(price_predict['close']-price_predict['close'].shift())[-100:]\n",
    "\n",
    "    #         print(k['day_pr'])\n",
    "            for ii in range(len(k)):\n",
    "                k_iloc=k.iloc[ii]\n",
    "                if hold[-1]==0 and votes[ii]>=2.5 and tr[-1]!=-1:\n",
    "                    tr.append(1)\n",
    "                elif hold[-1]==1 and votes[ii]<=1.5 and tr[-1]!=1:\n",
    "                    tr.append(-1)\n",
    "                else:\n",
    "                    tr.append(0)\n",
    "                hold.append(sum(tr))\n",
    "    #         # print(len(tr))\n",
    "            k['tr']=tr[:-1]\n",
    "            k['holds']=hold[:-2]\n",
    "            k['pr']=k['holds']*k['day_pr']\n",
    "            profit[fullcode[x]]=k['pr']\n",
    "    #         (k['day_pr'].cumsum()).plot(label=fullcode[x])\n",
    "    #         (k['pr'].cumsum()).plot(label=fullcode[x])\n",
    "        \n",
    "#     except:\n",
    "#         print(fullcode[x],'no data')\n"
   ]
  },
  {
   "cell_type": "code",
   "execution_count": null,
   "metadata": {
    "ExecuteTime": {
     "end_time": "2019-07-30T22:24:03.045205Z",
     "start_time": "2019-07-30T22:23:57.356Z"
    },
    "colab": {},
    "colab_type": "code",
    "id": "JZkgkufRCRsz"
   },
   "outputs": [],
   "source": [
    "profit.mean(axis=1).cumsum().plot(label='mean')\n",
    "# k['pr'].cumsum().plot(label='last')\n",
    "plt.legend()\n",
    "profit"
   ]
  },
  {
   "cell_type": "code",
   "execution_count": null,
   "metadata": {
    "ExecuteTime": {
     "end_time": "2019-07-30T22:24:03.047228Z",
     "start_time": "2019-07-30T22:23:57.358Z"
    },
    "colab": {},
    "colab_type": "code",
    "id": "kyO4uKWUqo9_",
    "scrolled": false
   },
   "outputs": [],
   "source": [
    "#利用股票池进行回测，\n",
    "#集合投票取最大的3个，按照得票平权,得到投票矩阵\n",
    "k=pd.DataFrame()\n",
    "prices=pd.DataFrame()\n",
    "votes=pd.DataFrame()\n",
    "for x in range(len(stocks)):\n",
    "# for x in range(0,3):\n",
    "    if x%10==0 and x>0:\n",
    "        print(x,'of',len(stocks),'ok')\n",
    "    try:\n",
    "        price_predict=ts.get_hist_data(stocks[i],start='2018-01-01',end='2019-07-30').sort_index()[['open','high','low','close','volume']]\n",
    "        price_features=trans_features(price_predict)[-10:]\n",
    "        prices[stocks[x]]=(price_predict['close']-price_predict['close'].shift())[-10:]\n",
    "        pre_price_feature=price_features.drop(['resultm','result'],axis=1) \n",
    "        pre_price_result=price_features['result']\n",
    "\n",
    "        pre_price_feature=pre_price_feature.dropna()\n",
    "\n",
    "        stock_train=assemble_train(clfs,pre_price_feature,1)\n",
    "        stock_result=assemble_train(assembles_1,stock_train)\n",
    "        votes[stocks[x]]=(stock_result*accuracy_assembles).sum(axis=1)\n",
    "    except:\n",
    "        print(stocks[x],'no data')\n",
    "votes=votes.dropna(axis=1)\n",
    "# price_predict.tail()\n",
    "votes.tail()\n"
   ]
  },
  {
   "cell_type": "code",
   "execution_count": null,
   "metadata": {
    "ExecuteTime": {
     "end_time": "2019-07-30T22:24:03.049095Z",
     "start_time": "2019-07-30T22:23:57.361Z"
    }
   },
   "outputs": [],
   "source": [
    "pre_price_feature.tail()"
   ]
  },
  {
   "cell_type": "code",
   "execution_count": null,
   "metadata": {
    "ExecuteTime": {
     "end_time": "2019-07-30T22:24:03.050939Z",
     "start_time": "2019-07-30T22:23:57.363Z"
    },
    "colab": {},
    "colab_type": "code",
    "id": "dsDh3geM2qxN"
   },
   "outputs": [],
   "source": [
    "vvotes=votes.tail()\n",
    "vstocks=vvotes.columns\n",
    "for i in range(len(vstocks)):\n",
    "    if vvotes[vstocks[i]].iloc[-1]<2 or vvotes[vstocks[i]].iloc[-2]<=1 :\n",
    "        vvotes=vvotes.drop(vstocks[i],axis=1)\n",
    "vvotes=vvotes.dropna(axis=1)\n",
    "\n",
    "vvotes"
   ]
  },
  {
   "cell_type": "code",
   "execution_count": null,
   "metadata": {
    "ExecuteTime": {
     "end_time": "2019-07-30T22:24:03.052879Z",
     "start_time": "2019-07-30T22:23:57.366Z"
    },
    "colab": {},
    "colab_type": "code",
    "id": "nKHYuE3qfT-B"
   },
   "outputs": [],
   "source": [
    "votes[votes<8]=0\n",
    "# vote_avgs=pd.DataFrame()\n",
    "# votes=votes-3\n",
    "for i in range(len(votes)):\n",
    "    vote_avgs=votes.iloc[i]/votes.iloc[i].sum()\n",
    "vote_avgs=vote_avgs.fillna(0)\n",
    "vote_avgs"
   ]
  },
  {
   "cell_type": "code",
   "execution_count": null,
   "metadata": {
    "ExecuteTime": {
     "end_time": "2019-07-30T22:24:03.054403Z",
     "start_time": "2019-07-30T22:23:57.368Z"
    },
    "colab": {},
    "colab_type": "code",
    "id": "YP4bwPs8qo-C"
   },
   "outputs": [],
   "source": [
    "# y=stock_result[stock_result[1]>2] #平权投票，集合评价\n",
    "y=stock_result[stock_result[1]>2] #平权投票，集合评价\n",
    "print('预测>2正确率',y[y['result5']>2].shape[0]/y.shape[0]) #取评价平均分大于2\n",
    "y"
   ]
  }
 ],
 "metadata": {
  "accelerator": "GPU",
  "colab": {
   "collapsed_sections": [],
   "name": "sklearn机器学习回测.ipynb",
   "provenance": [],
   "version": "0.3.2"
  },
  "hide_input": false,
  "kernelspec": {
   "display_name": "Python 3",
   "language": "python",
   "name": "python3"
  },
  "language_info": {
   "codemirror_mode": {
    "name": "ipython",
    "version": 3
   },
   "file_extension": ".py",
   "mimetype": "text/x-python",
   "name": "python",
   "nbconvert_exporter": "python",
   "pygments_lexer": "ipython3",
   "version": "3.7.4"
  },
  "latex_envs": {
   "LaTeX_envs_menu_present": true,
   "autoclose": false,
   "autocomplete": true,
   "bibliofile": "biblio.bib",
   "cite_by": "apalike",
   "current_citInitial": 1,
   "eqLabelWithNumbers": true,
   "eqNumInitial": 1,
   "hotkeys": {
    "equation": "Ctrl-E",
    "itemize": "Ctrl-I"
   },
   "labels_anchors": false,
   "latex_user_defs": false,
   "report_style_numbering": false,
   "user_envs_cfg": false
  },
  "nbTranslate": {
   "displayLangs": [
    "*"
   ],
   "hotkey": "alt-t",
   "langInMainMenu": true,
   "sourceLang": "en",
   "targetLang": "fr",
   "useGoogleTranslate": true
  },
  "toc": {
   "base_numbering": 1,
   "nav_menu": {},
   "number_sections": true,
   "sideBar": true,
   "skip_h1_title": false,
   "title_cell": "Table of Contents",
   "title_sidebar": "Contents",
   "toc_cell": false,
   "toc_position": {},
   "toc_section_display": true,
   "toc_window_display": true
  },
  "varInspector": {
   "cols": {
    "lenName": 16,
    "lenType": 16,
    "lenVar": 40
   },
   "kernels_config": {
    "python": {
     "delete_cmd_postfix": "",
     "delete_cmd_prefix": "del ",
     "library": "var_list.py",
     "varRefreshCmd": "print(var_dic_list())"
    },
    "r": {
     "delete_cmd_postfix": ") ",
     "delete_cmd_prefix": "rm(",
     "library": "var_list.r",
     "varRefreshCmd": "cat(var_dic_list()) "
    }
   },
   "types_to_exclude": [
    "module",
    "function",
    "builtin_function_or_method",
    "instance",
    "_Feature"
   ],
   "window_display": false
  }
 },
 "nbformat": 4,
 "nbformat_minor": 1
}
