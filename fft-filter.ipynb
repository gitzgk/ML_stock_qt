{
 "cells": [
  {
   "cell_type": "markdown",
   "metadata": {},
   "source": [
    "# 用滤波器进行滤波，并与平均线对比效果\n"
   ]
  },
  {
   "cell_type": "code",
   "execution_count": 3,
   "metadata": {
    "ExecuteTime": {
     "end_time": "2019-08-07T23:07:00.143661Z",
     "start_time": "2019-08-07T23:07:00.139283Z"
    },
    "code_folding": []
   },
   "outputs": [],
   "source": [
    "#常规库引用\n",
    "import datetime\n",
    "import tushare as ts\n",
    "# import rqalpha_data\n",
    "import pandas as pd\n",
    "import numpy as np\n",
    "import tushare as ts\n",
    "import baostock as bs\n",
    "import talib as talib\n",
    "import seaborn as sns\n",
    "from sklearn.externals import joblib   #保存模型方法\n",
    "#保存模型\n",
    "#joblib.dump(model,'rf.model')\n",
    "#加载模型\n",
    "#model=joblib.load('rf.model')\n",
    "\n",
    "import math\n",
    "import statsmodels.tsa.stattools as stattool\n",
    "import matplotlib.pyplot as plt \n",
    "plt.rcParams['figure.figsize'] = (18.0, 6.0)"
   ]
  },
  {
   "cell_type": "markdown",
   "metadata": {},
   "source": [
    "## 函数库"
   ]
  },
  {
   "cell_type": "code",
   "execution_count": 27,
   "metadata": {
    "ExecuteTime": {
     "end_time": "2019-08-07T23:24:12.237133Z",
     "start_time": "2019-08-07T23:24:12.230800Z"
    }
   },
   "outputs": [],
   "source": [
    "def pre(code):\n",
    "    pcode='sh.'+code if code[0]=='6' else 'sz.'+code\n",
    "    return pcode\n",
    "def getDataFromTushare(code,start_date,end_date):\n",
    "    price=ts.get_hist_data(code,start='2012-01-01',end='2019-04-30')\n",
    "    return price\n",
    "def getDataFromBaostock(code,start_date,end_date):\n",
    "    lg = bs.login()\n",
    "    print(pre(code))\n",
    "    rs = bs.query_history_k_data_plus(pre(code),\n",
    "        \"date,code,open,high,low,close,preclose,volume,amount\",\n",
    "        start_date=start_date, end_date=end_date,\n",
    "        frequency=\"d\", adjustflag=\"3\")\n",
    "    #### 打印结果集 ####\n",
    "    data_list = []\n",
    "    while (rs.error_code == '0') & rs.next():\n",
    "        # 获取一条记录，将记录合并在一起\n",
    "        data_list.append(rs.get_row_data())\n",
    "    result = pd.DataFrame(data_list, columns=rs.fields)\n",
    "\n",
    "\n",
    "    bs.logout()\n",
    "    return result"
   ]
  },
  {
   "cell_type": "markdown",
   "metadata": {},
   "source": [
    "## 读取数据"
   ]
  },
  {
   "cell_type": "code",
   "execution_count": 29,
   "metadata": {
    "ExecuteTime": {
     "end_time": "2019-08-07T23:24:32.994422Z",
     "start_time": "2019-08-07T23:24:32.742763Z"
    }
   },
   "outputs": [
    {
     "name": "stdout",
     "output_type": "stream",
     "text": [
      "login success!\n",
      "sz.000001\n",
      "logout success!\n"
     ]
    },
    {
     "data": {
      "text/html": [
       "<div>\n",
       "<style scoped>\n",
       "    .dataframe tbody tr th:only-of-type {\n",
       "        vertical-align: middle;\n",
       "    }\n",
       "\n",
       "    .dataframe tbody tr th {\n",
       "        vertical-align: top;\n",
       "    }\n",
       "\n",
       "    .dataframe thead th {\n",
       "        text-align: right;\n",
       "    }\n",
       "</style>\n",
       "<table border=\"1\" class=\"dataframe\">\n",
       "  <thead>\n",
       "    <tr style=\"text-align: right;\">\n",
       "      <th></th>\n",
       "      <th>date</th>\n",
       "      <th>code</th>\n",
       "      <th>open</th>\n",
       "      <th>high</th>\n",
       "      <th>low</th>\n",
       "      <th>close</th>\n",
       "      <th>preclose</th>\n",
       "      <th>volume</th>\n",
       "      <th>amount</th>\n",
       "    </tr>\n",
       "  </thead>\n",
       "  <tbody>\n",
       "    <tr>\n",
       "      <th>0</th>\n",
       "      <td>2015-03-02</td>\n",
       "      <td>sz.000001</td>\n",
       "      <td>14.0300</td>\n",
       "      <td>14.0900</td>\n",
       "      <td>13.8700</td>\n",
       "      <td>14.0300</td>\n",
       "      <td>13.9900</td>\n",
       "      <td>101879700</td>\n",
       "      <td>1423603264.0000</td>\n",
       "    </tr>\n",
       "    <tr>\n",
       "      <th>1</th>\n",
       "      <td>2015-03-03</td>\n",
       "      <td>sz.000001</td>\n",
       "      <td>13.9800</td>\n",
       "      <td>13.9800</td>\n",
       "      <td>13.5900</td>\n",
       "      <td>13.6000</td>\n",
       "      <td>14.0300</td>\n",
       "      <td>105947629</td>\n",
       "      <td>1457305040.0000</td>\n",
       "    </tr>\n",
       "    <tr>\n",
       "      <th>2</th>\n",
       "      <td>2015-03-04</td>\n",
       "      <td>sz.000001</td>\n",
       "      <td>13.6200</td>\n",
       "      <td>13.7200</td>\n",
       "      <td>13.5000</td>\n",
       "      <td>13.5700</td>\n",
       "      <td>13.6000</td>\n",
       "      <td>81497304</td>\n",
       "      <td>1108145424.0000</td>\n",
       "    </tr>\n",
       "    <tr>\n",
       "      <th>3</th>\n",
       "      <td>2015-03-05</td>\n",
       "      <td>sz.000001</td>\n",
       "      <td>13.5000</td>\n",
       "      <td>13.5300</td>\n",
       "      <td>13.2900</td>\n",
       "      <td>13.3800</td>\n",
       "      <td>13.5700</td>\n",
       "      <td>82860485</td>\n",
       "      <td>1109151968.0000</td>\n",
       "    </tr>\n",
       "    <tr>\n",
       "      <th>4</th>\n",
       "      <td>2015-03-06</td>\n",
       "      <td>sz.000001</td>\n",
       "      <td>13.3700</td>\n",
       "      <td>13.5100</td>\n",
       "      <td>13.3500</td>\n",
       "      <td>13.4400</td>\n",
       "      <td>13.3800</td>\n",
       "      <td>55704774</td>\n",
       "      <td>748959120.0000</td>\n",
       "    </tr>\n",
       "  </tbody>\n",
       "</table>\n",
       "</div>"
      ],
      "text/plain": [
       "         date       code     open     high      low    close preclose  \\\n",
       "0  2015-03-02  sz.000001  14.0300  14.0900  13.8700  14.0300  13.9900   \n",
       "1  2015-03-03  sz.000001  13.9800  13.9800  13.5900  13.6000  14.0300   \n",
       "2  2015-03-04  sz.000001  13.6200  13.7200  13.5000  13.5700  13.6000   \n",
       "3  2015-03-05  sz.000001  13.5000  13.5300  13.2900  13.3800  13.5700   \n",
       "4  2015-03-06  sz.000001  13.3700  13.5100  13.3500  13.4400  13.3800   \n",
       "\n",
       "      volume           amount  \n",
       "0  101879700  1423603264.0000  \n",
       "1  105947629  1457305040.0000  \n",
       "2   81497304  1108145424.0000  \n",
       "3   82860485  1109151968.0000  \n",
       "4   55704774   748959120.0000  "
      ]
     },
     "execution_count": 29,
     "metadata": {},
     "output_type": "execute_result"
    }
   ],
   "source": [
    "code='000001'\n",
    "start_date='2015-03-01'\n",
    "end_date='2019-03-01'\n",
    "price=getDataFromBaostock(code,start_date,end_date)\n",
    "price.head()"
   ]
  },
  {
   "cell_type": "code",
   "execution_count": 73,
   "metadata": {
    "ExecuteTime": {
     "end_time": "2019-08-07T23:58:08.995969Z",
     "start_time": "2019-08-07T23:58:08.766082Z"
    }
   },
   "outputs": [
    {
     "data": {
      "text/plain": [
       "<matplotlib.legend.Legend at 0x1c2f8e1e10>"
      ]
     },
     "execution_count": 73,
     "metadata": {},
     "output_type": "execute_result"
    },
    {
     "data": {
      "image/png": "[encoded data removed]",
      "text/plain": [
       "<Figure size 1296x432 with 1 Axes>"
      ]
     },
     "metadata": {
      "needs_background": "light"
     },
     "output_type": "display_data"
    }
   ],
   "source": [
    "from scipy import signal\n",
    "data=pd.to_numeric(price['close'])\n",
    "b, a = signal.butter(1, 0.1, 'lowpass')  \n",
    "# b1, a1 = signal.butter(8, 0.1, 'lowpass')  \n",
    "# wn=2*滤波频率/采样频率，如果是五日平均，则采用2*1/5=0.4\n",
    "meandata=data.rolling(10).mean().shift(-5)\n",
    "filtedData = signal.filtfilt(b, a, data)       #data为要过滤的信号\n",
    "filtedData1 = signal.filtfilt(b, a, data[:-10])       #data为要过滤的信号\n",
    "plt.plot(filtedData[-100:],label='filter')\n",
    "plt.plot(filtedData1[-90:],label='filter')\n",
    "plt.plot(meandata.values[-100:],label='mean')\n",
    "plt.plot(data.values[-100:],label='orig')\n",
    "plt.legend()"
   ]
  },
  {
   "cell_type": "code",
   "execution_count": null,
   "metadata": {
    "ExecuteTime": {
     "end_time": "2019-08-07T23:27:43.750018Z",
     "start_time": "2019-08-07T23:27:43.495314Z"
    }
   },
   "outputs": [],
   "source": []
  }
 ],
 "metadata": {
  "hide_input": false,
  "kernelspec": {
   "display_name": "Python 3",
   "language": "python",
   "name": "python3"
  },
  "language_info": {
   "codemirror_mode": {
    "name": "ipython",
    "version": 3
   },
   "file_extension": ".py",
   "mimetype": "text/x-python",
   "name": "python",
   "nbconvert_exporter": "python",
   "pygments_lexer": "ipython3",
   "version": "3.7.4"
  },
  "latex_envs": {
   "LaTeX_envs_menu_present": true,
   "autoclose": false,
   "autocomplete": true,
   "bibliofile": "biblio.bib",
   "cite_by": "apalike",
   "current_citInitial": 1,
   "eqLabelWithNumbers": true,
   "eqNumInitial": 1,
   "hotkeys": {
    "equation": "Ctrl-E",
    "itemize": "Ctrl-I"
   },
   "labels_anchors": false,
   "latex_user_defs": false,
   "report_style_numbering": false,
   "user_envs_cfg": false
  },
  "toc": {
   "base_numbering": 1,
   "nav_menu": {},
   "number_sections": true,
   "sideBar": true,
   "skip_h1_title": false,
   "title_cell": "Table of Contents",
   "title_sidebar": "Contents",
   "toc_cell": false,
   "toc_position": {},
   "toc_section_display": true,
   "toc_window_display": false
  },
  "varInspector": {
   "cols": {
    "lenName": 16,
    "lenType": 16,
    "lenVar": 40
   },
   "kernels_config": {
    "python": {
     "delete_cmd_postfix": "",
     "delete_cmd_prefix": "del ",
     "library": "var_list.py",
     "varRefreshCmd": "print(var_dic_list())"
    },
    "r": {
     "delete_cmd_postfix": ") ",
     "delete_cmd_prefix": "rm(",
     "library": "var_list.r",
     "varRefreshCmd": "cat(var_dic_list()) "
    }
   },
   "types_to_exclude": [
    "module",
    "function",
    "builtin_function_or_method",
    "instance",
    "_Feature"
   ],
   "window_display": false
  }
 },
 "nbformat": 4,
 "nbformat_minor": 2
}
